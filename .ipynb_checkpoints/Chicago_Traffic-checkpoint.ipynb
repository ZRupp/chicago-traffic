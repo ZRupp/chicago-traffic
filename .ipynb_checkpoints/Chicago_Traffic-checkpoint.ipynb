{
 "cells": [
  {
   "cell_type": "markdown",
   "metadata": {},
   "source": [
    "# Analyzing Chicago Traffic Data\n",
    "\n",
    "The purpose of this project is to explore the City of Chicago's [Speed Camera Violations dataset](https://data.cityofchicago.org/Transportation/Speed-Camera-Violations/hhkd-xvj4), an aggregated dataset reflecting the daily volume of violations that have occurred in Children's Safety Zones for each camera. \n",
    "\n",
    "In this project, we'll be answering the following questions:\n",
    "- What is the average number of citations issued per camera, per day?\n",
    "- On which day of the week are the most citations issued?\n",
    "- Have the number of active cameras increased or decreased over the collection period?\n",
    "- Are there any interesting patterns or specific outliers in the data?"
   ]
  },
  {
   "cell_type": "markdown",
   "metadata": {},
   "source": [
    "# Introducing the data"
   ]
  },
  {
   "cell_type": "code",
   "execution_count": 1,
   "metadata": {},
   "outputs": [
    {
     "data": {
      "text/html": [
       "<div>\n",
       "<style scoped>\n",
       "    .dataframe tbody tr th:only-of-type {\n",
       "        vertical-align: middle;\n",
       "    }\n",
       "\n",
       "    .dataframe tbody tr th {\n",
       "        vertical-align: top;\n",
       "    }\n",
       "\n",
       "    .dataframe thead th {\n",
       "        text-align: right;\n",
       "    }\n",
       "</style>\n",
       "<table border=\"1\" class=\"dataframe\">\n",
       "  <thead>\n",
       "    <tr style=\"text-align: right;\">\n",
       "      <th></th>\n",
       "      <th>ADDRESS</th>\n",
       "      <th>CAMERA ID</th>\n",
       "      <th>VIOLATION DATE</th>\n",
       "      <th>VIOLATIONS</th>\n",
       "      <th>X COORDINATE</th>\n",
       "      <th>Y COORDINATE</th>\n",
       "      <th>LATITUDE</th>\n",
       "      <th>LONGITUDE</th>\n",
       "      <th>LOCATION</th>\n",
       "    </tr>\n",
       "  </thead>\n",
       "  <tbody>\n",
       "    <tr>\n",
       "      <th>0</th>\n",
       "      <td>7738 S WESTERN</td>\n",
       "      <td>CHI065</td>\n",
       "      <td>07/08/2014</td>\n",
       "      <td>65</td>\n",
       "      <td>NaN</td>\n",
       "      <td>NaN</td>\n",
       "      <td>NaN</td>\n",
       "      <td>NaN</td>\n",
       "      <td>NaN</td>\n",
       "    </tr>\n",
       "    <tr>\n",
       "      <th>1</th>\n",
       "      <td>1111 N HUMBOLDT</td>\n",
       "      <td>CHI010</td>\n",
       "      <td>07/16/2014</td>\n",
       "      <td>56</td>\n",
       "      <td>NaN</td>\n",
       "      <td>NaN</td>\n",
       "      <td>NaN</td>\n",
       "      <td>NaN</td>\n",
       "      <td>NaN</td>\n",
       "    </tr>\n",
       "    <tr>\n",
       "      <th>2</th>\n",
       "      <td>5520 S WESTERN</td>\n",
       "      <td>CHI069</td>\n",
       "      <td>07/08/2014</td>\n",
       "      <td>10</td>\n",
       "      <td>NaN</td>\n",
       "      <td>NaN</td>\n",
       "      <td>NaN</td>\n",
       "      <td>NaN</td>\n",
       "      <td>NaN</td>\n",
       "    </tr>\n",
       "    <tr>\n",
       "      <th>3</th>\n",
       "      <td>1111 N HUMBOLDT</td>\n",
       "      <td>CHI010</td>\n",
       "      <td>07/26/2014</td>\n",
       "      <td>101</td>\n",
       "      <td>NaN</td>\n",
       "      <td>NaN</td>\n",
       "      <td>NaN</td>\n",
       "      <td>NaN</td>\n",
       "      <td>NaN</td>\n",
       "    </tr>\n",
       "    <tr>\n",
       "      <th>4</th>\n",
       "      <td>1111 N HUMBOLDT</td>\n",
       "      <td>CHI010</td>\n",
       "      <td>07/27/2014</td>\n",
       "      <td>92</td>\n",
       "      <td>NaN</td>\n",
       "      <td>NaN</td>\n",
       "      <td>NaN</td>\n",
       "      <td>NaN</td>\n",
       "      <td>NaN</td>\n",
       "    </tr>\n",
       "  </tbody>\n",
       "</table>\n",
       "</div>"
      ],
      "text/plain": [
       "           ADDRESS CAMERA ID VIOLATION DATE  VIOLATIONS  X COORDINATE  \\\n",
       "0   7738 S WESTERN    CHI065     07/08/2014          65           NaN   \n",
       "1  1111 N HUMBOLDT    CHI010     07/16/2014          56           NaN   \n",
       "2   5520 S WESTERN    CHI069     07/08/2014          10           NaN   \n",
       "3  1111 N HUMBOLDT    CHI010     07/26/2014         101           NaN   \n",
       "4  1111 N HUMBOLDT    CHI010     07/27/2014          92           NaN   \n",
       "\n",
       "   Y COORDINATE  LATITUDE  LONGITUDE LOCATION  \n",
       "0           NaN       NaN        NaN      NaN  \n",
       "1           NaN       NaN        NaN      NaN  \n",
       "2           NaN       NaN        NaN      NaN  \n",
       "3           NaN       NaN        NaN      NaN  \n",
       "4           NaN       NaN        NaN      NaN  "
      ]
     },
     "execution_count": 1,
     "metadata": {},
     "output_type": "execute_result"
    }
   ],
   "source": [
    "import pandas as pd\n",
    "import numpy as np\n",
    "\n",
    "violations = pd.read_csv('Speed_Camera_Violations.csv')\n",
    "\n",
    "violations.head()"
   ]
  },
  {
   "cell_type": "code",
   "execution_count": 2,
   "metadata": {},
   "outputs": [
    {
     "data": {
      "text/plain": [
       "(170521, 9)"
      ]
     },
     "execution_count": 2,
     "metadata": {},
     "output_type": "execute_result"
    }
   ],
   "source": [
    "violations.shape"
   ]
  },
  {
   "cell_type": "code",
   "execution_count": 3,
   "metadata": {},
   "outputs": [
    {
     "data": {
      "text/plain": [
       "'12/22/2018'"
      ]
     },
     "execution_count": 3,
     "metadata": {},
     "output_type": "execute_result"
    }
   ],
   "source": [
    "violations['VIOLATION DATE'].iloc[-1]"
   ]
  },
  {
   "cell_type": "markdown",
   "metadata": {},
   "source": [
    "The dataset contains 170521 violations spanning a period beginning 07/08/2014 and ending 12/22/2018. The 9 columns describe the following, taken from [here](https://data.cityofchicago.org/Transportation/Speed-Camera-Violations/hhkd-xvj4):\n",
    "\n",
    "- ADDRESS: Address of the location of the speed enforcement camera(s). There may be more than one camera at each address.\n",
    "- CAMERA ID: A unique ID associated with the physical camera at each location. There may be more than one camera at a physical address.\n",
    "- VIOLATION DATE: The date of when the violations occurred. NOTE: The citation may be issued on a different date.\n",
    "- VIOLATIONS: Number of violations for each camera on a particular day.\n",
    "- X COORDINATE: The X Coordinate, measured in feet, of the location of the camera. Geocoded using Illinois State Plane East (ESRI:102671).\n",
    "- Y COORDINATE: The Y Coordinate, measured in feet, of the location of the camera. Geocoded using Illinois State Plane East (ESRI:102671).\n",
    "- LATITUDE: The latitude of the physical location of the camera(s) based on the ADDRESS column. Geocoded using the WGS84.\n",
    "- LONGITUDE: The longitude of the physical location of the camera(s) based on the ADDRESS column. Geocoded using the WGS84.\n",
    "- LOCATION: The coordinates of the camera(s) based on the LATITUDE and LONGITUDE columns. Geocoded using the WGS84.\n",
    "\n",
    "Before getting started, let's try to make the column names a little easier to work with."
   ]
  },
  {
   "cell_type": "code",
   "execution_count": 4,
   "metadata": {},
   "outputs": [],
   "source": [
    "columns = [\n",
    "    'cam_address',\n",
    "    'cam_id',\n",
    "    'date',\n",
    "    'num_violations',\n",
    "    'x_coord',\n",
    "    'y_coord',\n",
    "    'latitude',\n",
    "    'longitude',\n",
    "    'location'\n",
    "]\n",
    "\n",
    "violations.columns = columns"
   ]
  },
  {
   "cell_type": "code",
   "execution_count": 5,
   "metadata": {},
   "outputs": [
    {
     "data": {
      "text/html": [
       "<div>\n",
       "<style scoped>\n",
       "    .dataframe tbody tr th:only-of-type {\n",
       "        vertical-align: middle;\n",
       "    }\n",
       "\n",
       "    .dataframe tbody tr th {\n",
       "        vertical-align: top;\n",
       "    }\n",
       "\n",
       "    .dataframe thead th {\n",
       "        text-align: right;\n",
       "    }\n",
       "</style>\n",
       "<table border=\"1\" class=\"dataframe\">\n",
       "  <thead>\n",
       "    <tr style=\"text-align: right;\">\n",
       "      <th></th>\n",
       "      <th>cam_address</th>\n",
       "      <th>cam_id</th>\n",
       "      <th>date</th>\n",
       "      <th>num_violations</th>\n",
       "      <th>x_coord</th>\n",
       "      <th>y_coord</th>\n",
       "      <th>latitude</th>\n",
       "      <th>longitude</th>\n",
       "      <th>location</th>\n",
       "    </tr>\n",
       "  </thead>\n",
       "  <tbody>\n",
       "    <tr>\n",
       "      <th>0</th>\n",
       "      <td>7738 S WESTERN</td>\n",
       "      <td>CHI065</td>\n",
       "      <td>07/08/2014</td>\n",
       "      <td>65</td>\n",
       "      <td>NaN</td>\n",
       "      <td>NaN</td>\n",
       "      <td>NaN</td>\n",
       "      <td>NaN</td>\n",
       "      <td>NaN</td>\n",
       "    </tr>\n",
       "    <tr>\n",
       "      <th>1</th>\n",
       "      <td>1111 N HUMBOLDT</td>\n",
       "      <td>CHI010</td>\n",
       "      <td>07/16/2014</td>\n",
       "      <td>56</td>\n",
       "      <td>NaN</td>\n",
       "      <td>NaN</td>\n",
       "      <td>NaN</td>\n",
       "      <td>NaN</td>\n",
       "      <td>NaN</td>\n",
       "    </tr>\n",
       "    <tr>\n",
       "      <th>2</th>\n",
       "      <td>5520 S WESTERN</td>\n",
       "      <td>CHI069</td>\n",
       "      <td>07/08/2014</td>\n",
       "      <td>10</td>\n",
       "      <td>NaN</td>\n",
       "      <td>NaN</td>\n",
       "      <td>NaN</td>\n",
       "      <td>NaN</td>\n",
       "      <td>NaN</td>\n",
       "    </tr>\n",
       "    <tr>\n",
       "      <th>3</th>\n",
       "      <td>1111 N HUMBOLDT</td>\n",
       "      <td>CHI010</td>\n",
       "      <td>07/26/2014</td>\n",
       "      <td>101</td>\n",
       "      <td>NaN</td>\n",
       "      <td>NaN</td>\n",
       "      <td>NaN</td>\n",
       "      <td>NaN</td>\n",
       "      <td>NaN</td>\n",
       "    </tr>\n",
       "    <tr>\n",
       "      <th>4</th>\n",
       "      <td>1111 N HUMBOLDT</td>\n",
       "      <td>CHI010</td>\n",
       "      <td>07/27/2014</td>\n",
       "      <td>92</td>\n",
       "      <td>NaN</td>\n",
       "      <td>NaN</td>\n",
       "      <td>NaN</td>\n",
       "      <td>NaN</td>\n",
       "      <td>NaN</td>\n",
       "    </tr>\n",
       "  </tbody>\n",
       "</table>\n",
       "</div>"
      ],
      "text/plain": [
       "       cam_address  cam_id        date  num_violations  x_coord  y_coord  \\\n",
       "0   7738 S WESTERN  CHI065  07/08/2014              65      NaN      NaN   \n",
       "1  1111 N HUMBOLDT  CHI010  07/16/2014              56      NaN      NaN   \n",
       "2   5520 S WESTERN  CHI069  07/08/2014              10      NaN      NaN   \n",
       "3  1111 N HUMBOLDT  CHI010  07/26/2014             101      NaN      NaN   \n",
       "4  1111 N HUMBOLDT  CHI010  07/27/2014              92      NaN      NaN   \n",
       "\n",
       "   latitude  longitude location  \n",
       "0       NaN        NaN      NaN  \n",
       "1       NaN        NaN      NaN  \n",
       "2       NaN        NaN      NaN  \n",
       "3       NaN        NaN      NaN  \n",
       "4       NaN        NaN      NaN  "
      ]
     },
     "execution_count": 5,
     "metadata": {},
     "output_type": "execute_result"
    }
   ],
   "source": [
    "violations.head()"
   ]
  },
  {
   "cell_type": "markdown",
   "metadata": {},
   "source": [
    "# Exploring the data"
   ]
  },
  {
   "cell_type": "markdown",
   "metadata": {},
   "source": [
    "## Preliminary investigation"
   ]
  },
  {
   "cell_type": "code",
   "execution_count": 6,
   "metadata": {},
   "outputs": [
    {
     "name": "stdout",
     "output_type": "stream",
     "text": [
      "<class 'pandas.core.frame.DataFrame'>\n",
      "RangeIndex: 170521 entries, 0 to 170520\n",
      "Data columns (total 9 columns):\n",
      "cam_address       170521 non-null object\n",
      "cam_id            170521 non-null object\n",
      "date              170521 non-null object\n",
      "num_violations    170521 non-null int64\n",
      "x_coord           163959 non-null float64\n",
      "y_coord           163959 non-null float64\n",
      "latitude          163959 non-null float64\n",
      "longitude         163959 non-null float64\n",
      "location          163959 non-null object\n",
      "dtypes: float64(4), int64(1), object(4)\n",
      "memory usage: 11.7+ MB\n"
     ]
    }
   ],
   "source": [
    "violations.info()"
   ]
  },
  {
   "cell_type": "markdown",
   "metadata": {},
   "source": [
    "A significant amount of location data are missing. I may want to fill that in if I decide to plot the data on a map. I assume all of the missing data correspond to specific cameras. Just out of curiosity, let's see which cameras are missing data."
   ]
  },
  {
   "cell_type": "code",
   "execution_count": 7,
   "metadata": {},
   "outputs": [
    {
     "data": {
      "text/plain": [
       "array(['CHI065', 'CHI010', 'CHI069', 'CHI068', 'CHI064'], dtype=object)"
      ]
     },
     "execution_count": 7,
     "metadata": {},
     "output_type": "execute_result"
    }
   ],
   "source": [
    "violations[violations['location'].isna()]['cam_id'].unique()"
   ]
  },
  {
   "cell_type": "markdown",
   "metadata": {},
   "source": [
    "It looks like only 5 of the cameras are missing data, so if I do decide to fill the missing data it shouldn't be too difficult."
   ]
  },
  {
   "cell_type": "code",
   "execution_count": 8,
   "metadata": {},
   "outputs": [
    {
     "data": {
      "text/plain": [
       "count    170521.000000\n",
       "mean         28.880449\n",
       "std          36.636151\n",
       "min           1.000000\n",
       "25%           7.000000\n",
       "50%          16.000000\n",
       "75%          37.000000\n",
       "max         479.000000\n",
       "Name: num_violations, dtype: float64"
      ]
     },
     "execution_count": 8,
     "metadata": {},
     "output_type": "execute_result"
    }
   ],
   "source": [
    "violations['num_violations'].describe()"
   ]
  },
  {
   "cell_type": "code",
   "execution_count": 9,
   "metadata": {},
   "outputs": [
    {
     "data": {
      "text/plain": [
       "0    1\n",
       "dtype: int64"
      ]
     },
     "execution_count": 9,
     "metadata": {},
     "output_type": "execute_result"
    }
   ],
   "source": [
    "violations['num_violations'].mode()"
   ]
  },
  {
   "cell_type": "markdown",
   "metadata": {},
   "source": [
    "These decriptive statistics are not very instructive because a single day's worth of citations is spread out across multiple rows. One thing does stand out, though; 479 violations from a single camera in one day seems unbelievable. Let's see how common it is for there to be greater than 200 violations recorded by a single camera in a day."
   ]
  },
  {
   "cell_type": "code",
   "execution_count": 10,
   "metadata": {},
   "outputs": [
    {
     "data": {
      "text/plain": [
       "(1035, 9)"
      ]
     },
     "execution_count": 10,
     "metadata": {},
     "output_type": "execute_result"
    }
   ],
   "source": [
    "violations[violations['num_violations'] > 200].shape"
   ]
  },
  {
   "cell_type": "code",
   "execution_count": 11,
   "metadata": {
    "scrolled": true
   },
   "outputs": [
    {
     "data": {
      "text/plain": [
       "CHI149    671\n",
       "CHI045    171\n",
       "CHI003     38\n",
       "CHI029     34\n",
       "CHI021     34\n",
       "CHI120     25\n",
       "CHI119     22\n",
       "CHI031      9\n",
       "CHI044      8\n",
       "CHI079      5\n",
       "CHI028      5\n",
       "CHI058      4\n",
       "CHI108      4\n",
       "CHI095      2\n",
       "CHI174      1\n",
       "CHI184      1\n",
       "CHI147      1\n",
       "Name: cam_id, dtype: int64"
      ]
     },
     "execution_count": 11,
     "metadata": {},
     "output_type": "execute_result"
    }
   ],
   "source": [
    "violations[violations['num_violations']> 200]['cam_id'].value_counts()"
   ]
  },
  {
   "cell_type": "markdown",
   "metadata": {},
   "source": [
    "That's interesting. One camera seems to be issuing a larger number of violations than even the other cameras with high yields. We may want to explore this in greater depth later. I have some questions:\n",
    "1. Where in the city is this camera located? Is it a main thoroughfare?\n",
    "2. Do the high number of violations correspond to specific dates. (Ball games, holidays, etc.)"
   ]
  },
  {
   "cell_type": "markdown",
   "metadata": {},
   "source": [
    "We've gotten a good preliminary glimpse at the data, so let's begin answering the questions posed at the beginning of the project. Before we do that, though, let's make the date column easier to work with."
   ]
  },
  {
   "cell_type": "code",
   "execution_count": 12,
   "metadata": {},
   "outputs": [
    {
     "data": {
      "text/html": [
       "<div>\n",
       "<style scoped>\n",
       "    .dataframe tbody tr th:only-of-type {\n",
       "        vertical-align: middle;\n",
       "    }\n",
       "\n",
       "    .dataframe tbody tr th {\n",
       "        vertical-align: top;\n",
       "    }\n",
       "\n",
       "    .dataframe thead th {\n",
       "        text-align: right;\n",
       "    }\n",
       "</style>\n",
       "<table border=\"1\" class=\"dataframe\">\n",
       "  <thead>\n",
       "    <tr style=\"text-align: right;\">\n",
       "      <th></th>\n",
       "      <th>cam_address</th>\n",
       "      <th>cam_id</th>\n",
       "      <th>date</th>\n",
       "      <th>num_violations</th>\n",
       "      <th>x_coord</th>\n",
       "      <th>y_coord</th>\n",
       "      <th>latitude</th>\n",
       "      <th>longitude</th>\n",
       "      <th>location</th>\n",
       "    </tr>\n",
       "  </thead>\n",
       "  <tbody>\n",
       "    <tr>\n",
       "      <th>0</th>\n",
       "      <td>7738 S WESTERN</td>\n",
       "      <td>CHI065</td>\n",
       "      <td>2014-07-08</td>\n",
       "      <td>65</td>\n",
       "      <td>NaN</td>\n",
       "      <td>NaN</td>\n",
       "      <td>NaN</td>\n",
       "      <td>NaN</td>\n",
       "      <td>NaN</td>\n",
       "    </tr>\n",
       "    <tr>\n",
       "      <th>1</th>\n",
       "      <td>1111 N HUMBOLDT</td>\n",
       "      <td>CHI010</td>\n",
       "      <td>2014-07-16</td>\n",
       "      <td>56</td>\n",
       "      <td>NaN</td>\n",
       "      <td>NaN</td>\n",
       "      <td>NaN</td>\n",
       "      <td>NaN</td>\n",
       "      <td>NaN</td>\n",
       "    </tr>\n",
       "    <tr>\n",
       "      <th>2</th>\n",
       "      <td>5520 S WESTERN</td>\n",
       "      <td>CHI069</td>\n",
       "      <td>2014-07-08</td>\n",
       "      <td>10</td>\n",
       "      <td>NaN</td>\n",
       "      <td>NaN</td>\n",
       "      <td>NaN</td>\n",
       "      <td>NaN</td>\n",
       "      <td>NaN</td>\n",
       "    </tr>\n",
       "    <tr>\n",
       "      <th>3</th>\n",
       "      <td>1111 N HUMBOLDT</td>\n",
       "      <td>CHI010</td>\n",
       "      <td>2014-07-26</td>\n",
       "      <td>101</td>\n",
       "      <td>NaN</td>\n",
       "      <td>NaN</td>\n",
       "      <td>NaN</td>\n",
       "      <td>NaN</td>\n",
       "      <td>NaN</td>\n",
       "    </tr>\n",
       "    <tr>\n",
       "      <th>4</th>\n",
       "      <td>1111 N HUMBOLDT</td>\n",
       "      <td>CHI010</td>\n",
       "      <td>2014-07-27</td>\n",
       "      <td>92</td>\n",
       "      <td>NaN</td>\n",
       "      <td>NaN</td>\n",
       "      <td>NaN</td>\n",
       "      <td>NaN</td>\n",
       "      <td>NaN</td>\n",
       "    </tr>\n",
       "  </tbody>\n",
       "</table>\n",
       "</div>"
      ],
      "text/plain": [
       "       cam_address  cam_id       date  num_violations  x_coord  y_coord  \\\n",
       "0   7738 S WESTERN  CHI065 2014-07-08              65      NaN      NaN   \n",
       "1  1111 N HUMBOLDT  CHI010 2014-07-16              56      NaN      NaN   \n",
       "2   5520 S WESTERN  CHI069 2014-07-08              10      NaN      NaN   \n",
       "3  1111 N HUMBOLDT  CHI010 2014-07-26             101      NaN      NaN   \n",
       "4  1111 N HUMBOLDT  CHI010 2014-07-27              92      NaN      NaN   \n",
       "\n",
       "   latitude  longitude location  \n",
       "0       NaN        NaN      NaN  \n",
       "1       NaN        NaN      NaN  \n",
       "2       NaN        NaN      NaN  \n",
       "3       NaN        NaN      NaN  \n",
       "4       NaN        NaN      NaN  "
      ]
     },
     "execution_count": 12,
     "metadata": {},
     "output_type": "execute_result"
    }
   ],
   "source": [
    "# Convert items in date column to datetime objects\n",
    "violations['date'] = pd.to_datetime(violations['date'], format='%m/%d/%Y')\n",
    "violations.head()"
   ]
  },
  {
   "cell_type": "markdown",
   "metadata": {},
   "source": [
    "# Average citations per camera, per day"
   ]
  },
  {
   "cell_type": "code",
   "execution_count": 13,
   "metadata": {
    "scrolled": true
   },
   "outputs": [
    {
     "data": {
      "text/plain": [
       "18.570265541452674"
      ]
     },
     "execution_count": 13,
     "metadata": {},
     "output_type": "execute_result"
    }
   ],
   "source": [
    "# Calculate total number of citations\n",
    "total_citations = violations['num_violations'].sum()\n",
    "\n",
    "# Calculate total number of days\n",
    "num_days = violations['date'].unique().shape[0]\n",
    "\n",
    "# Calculate the number of cameras\n",
    "num_cameras = violations['cam_id'].unique().shape[0]\n",
    "\n",
    "# Calculate average citations per camera, per day\n",
    "total_citations / (num_days*num_cameras)"
   ]
  },
  {
   "cell_type": "markdown",
   "metadata": {},
   "source": [
    "There we have it; there are approximately 19 citations per day, per camera. This doesn't tell the entire story, however, because it is certainly not the case that all of the cameras issued citations on exactly the same days. Let's get a little more granular for a better idea of the average number of citations issued per camera, per day."
   ]
  },
  {
   "cell_type": "code",
   "execution_count": 14,
   "metadata": {},
   "outputs": [],
   "source": [
    "# Average violations recorded by each individual camera per day\n",
    "cam_avg = violations.groupby('cam_id')['num_violations'].mean()"
   ]
  },
  {
   "cell_type": "code",
   "execution_count": 15,
   "metadata": {},
   "outputs": [
    {
     "data": {
      "text/plain": [
       "cam_id\n",
       "CHI003    116.335859\n",
       "CHI004     34.781192\n",
       "CHI005     12.046569\n",
       "CHI007     59.697837\n",
       "CHI008     19.142241\n",
       "Name: num_violations, dtype: float64"
      ]
     },
     "execution_count": 15,
     "metadata": {},
     "output_type": "execute_result"
    }
   ],
   "source": [
    "cam_avg.head()"
   ]
  },
  {
   "cell_type": "code",
   "execution_count": 16,
   "metadata": {},
   "outputs": [
    {
     "data": {
      "text/plain": [
       "25.835382801473404"
      ]
     },
     "execution_count": 16,
     "metadata": {},
     "output_type": "execute_result"
    }
   ],
   "source": [
    "# Average number of citations per camer, per day\n",
    "cam_avg.mean()"
   ]
  },
  {
   "cell_type": "markdown",
   "metadata": {},
   "source": [
    "This is a potentially more accurate estimate because each average constructed above is dividing the sum of each camera's citations by the number of days each camera issued citations. "
   ]
  },
  {
   "cell_type": "code",
   "execution_count": 17,
   "metadata": {},
   "outputs": [],
   "source": [
    "# Average number of violations issued on each day\n",
    "day_avg = violations.groupby('date')['num_violations'].mean()"
   ]
  },
  {
   "cell_type": "code",
   "execution_count": 18,
   "metadata": {},
   "outputs": [
    {
     "data": {
      "text/plain": [
       "date\n",
       "2014-07-01    52.168421\n",
       "2014-07-02    43.228261\n",
       "2014-07-03    51.617021\n",
       "2014-07-04    59.596774\n",
       "2014-07-05    55.380952\n",
       "Name: num_violations, dtype: float64"
      ]
     },
     "execution_count": 18,
     "metadata": {},
     "output_type": "execute_result"
    }
   ],
   "source": [
    "day_avg.head()"
   ]
  },
  {
   "cell_type": "code",
   "execution_count": 19,
   "metadata": {},
   "outputs": [
    {
     "data": {
      "text/plain": [
       "30.751780673738484"
      ]
     },
     "execution_count": 19,
     "metadata": {},
     "output_type": "execute_result"
    }
   ],
   "source": [
    "# Average number of violations issued per day\n",
    "day_avg.mean()"
   ]
  },
  {
   "cell_type": "code",
   "execution_count": 20,
   "metadata": {},
   "outputs": [
    {
     "data": {
      "text/plain": [
       "Text(0.5, 1.0, 'Average Number of Citations Per Day')"
      ]
     },
     "execution_count": 20,
     "metadata": {},
     "output_type": "execute_result"
    },
    {
     "data": {
      "image/png": "[encoded data removed]",
      "text/plain": [
       "<Figure size 576x360 with 1 Axes>"
      ]
     },
     "metadata": {
      "needs_background": "light"
     },
     "output_type": "display_data"
    }
   ],
   "source": [
    "import matplotlib.pyplot as plt\n",
    "%matplotlib inline\n",
    "\n",
    "plt.figure(figsize=(8,5))\n",
    "\n",
    "# Let's plot our data\n",
    "day_avg.plot(style='.')\n",
    "plt.ylabel('citations')\n",
    "plt.title('Average Number of Citations Per Day')"
   ]
  },
  {
   "cell_type": "markdown",
   "metadata": {},
   "source": [
    "There's an interesting trend here in the data. During the summer months, the number of citations issued spikes dramatically and then falls off in the fall and winter. We also see the magnitude of outliers diminish over time. Taken at face value, this graph appears to show that the cameras are making a difference in the number of violations committed."
   ]
  },
  {
   "cell_type": "code",
   "execution_count": 21,
   "metadata": {},
   "outputs": [
    {
     "data": {
      "image/png": "[encoded data removed]",
      "text/plain": [
       "<Figure size 864x576 with 2 Axes>"
      ]
     },
     "metadata": {
      "needs_background": "light"
     },
     "output_type": "display_data"
    }
   ],
   "source": [
    "half = len(cam_avg)//2\n",
    "\n",
    "x1 = np.arange(half)\n",
    "x2 = np.arange(half, len(cam_avg))\n",
    "y1 = cam_avg[:half].values\n",
    "y2 = cam_avg[half:].values\n",
    "\n",
    "fig, (ax1, ax2) = plt.subplots(nrows=2, figsize=(12, 8))\n",
    "\n",
    "ax1.bar(x1, y1)\n",
    "ax1.set_ylim(0, 210)\n",
    "ax1.set_ylabel('citations')\n",
    "ax1.set_xlabel('cam_id')\n",
    "ax1.set_xticks(x1)\n",
    "ax1.set_xticklabels(cam_avg[:half].index, rotation=90, fontsize='small')\n",
    "ax1.spines['right'].set_visible(False)\n",
    "ax1.spines['top'].set_visible(False)\n",
    "ax1.tick_params(top=False, bottom=False, left=False, right=False)\n",
    "ax1.margins(.01, .01)\n",
    "\n",
    "ax2.bar(x2, y2)\n",
    "ax2.set_ylim(0, 210)\n",
    "ax2.set_ylabel('citations')\n",
    "ax2.set_xlabel('cam_id')\n",
    "ax2.set_xticks(x2)\n",
    "ax2.set_xticklabels(cam_avg[half:].index, rotation=90, fontsize='small')\n",
    "ax2.spines['right'].set_visible(False)\n",
    "ax2.spines['top'].set_visible(False)\n",
    "ax2.tick_params(top=False, bottom=False, left=False, right=False)\n",
    "ax2.margins(.01, .01)\n",
    "\n",
    "plt.suptitle('Average Number of Citations Per Camera')\n",
    "plt.tight_layout()\n",
    "plt.show()"
   ]
  },
  {
   "cell_type": "code",
   "execution_count": 22,
   "metadata": {},
   "outputs": [
    {
     "data": {
      "image/png": "[encoded data removed]",
      "text/plain": [
       "<Figure size 576x360 with 1 Axes>"
      ]
     },
     "metadata": {
      "needs_background": "light"
     },
     "output_type": "display_data"
    }
   ],
   "source": [
    "fig, ax = plt.subplots(figsize=(8,5))\n",
    "\n",
    "ax.boxplot(cam_avg, vert=False)\n",
    "ax.set_xlabel('Citations per Day')\n",
    "ax.set_ylabel('All Cameras')\n",
    "ax.set_title('Citations per Day for All Chicage Traffic Cameras')\n",
    "plt.show()"
   ]
  },
  {
   "cell_type": "markdown",
   "metadata": {},
   "source": [
    "One interesting thing to note is that a few cameras are averaging over 75 citations per day, with the greatest outlier averaging nearly 200 citations per day. Indeed, the majority of cameras average less than 50 citations per day. Where are these high-yield cameras located, and why are they issuing so many citations? "
   ]
  },
  {
   "cell_type": "markdown",
   "metadata": {},
   "source": [
    "# Citations by day of the week"
   ]
  },
  {
   "cell_type": "code",
   "execution_count": 23,
   "metadata": {},
   "outputs": [],
   "source": [
    "import datetime\n",
    "\n",
    "# Let's make a function that extracts the weekday from a datetime object\n",
    "def datetime_to_weekday(date_col):\n",
    "    '''Creates a new column by extracting the weekday from a column of datetime object\n",
    "    \n",
    "    Returns a one-dimensionall ndarray (a column)\n",
    "    \n",
    "    Usage\n",
    "    ------\n",
    "    \n",
    "    df['weekday'] = datetime_to_weekday(df['date'])\n",
    "    '''\n",
    "    \n",
    "    # Create a mapping dictionary to convert integers to corresponding weekday    \n",
    "    mapping_dict = {\n",
    "        0: 'Monday',\n",
    "        1: 'Tuesday',\n",
    "        2: 'Wednesday',\n",
    "        3: 'Thursday',\n",
    "        4: 'Friday',\n",
    "        5: 'Saturday',\n",
    "        6: 'Sunday'\n",
    "    }\n",
    "\n",
    "    # Extract integer value corresponding to day of week from datetime column\n",
    "    new_col = date_col.apply(lambda x: x.weekday())\n",
    "    \n",
    "    # Substitute integers with corresponding weekdays\n",
    "    new_col = new_col.map(mapping_dict)\n",
    "    \n",
    "    return new_col\n"
   ]
  },
  {
   "cell_type": "code",
   "execution_count": 24,
   "metadata": {},
   "outputs": [
    {
     "data": {
      "text/html": [
       "<div>\n",
       "<style scoped>\n",
       "    .dataframe tbody tr th:only-of-type {\n",
       "        vertical-align: middle;\n",
       "    }\n",
       "\n",
       "    .dataframe tbody tr th {\n",
       "        vertical-align: top;\n",
       "    }\n",
       "\n",
       "    .dataframe thead th {\n",
       "        text-align: right;\n",
       "    }\n",
       "</style>\n",
       "<table border=\"1\" class=\"dataframe\">\n",
       "  <thead>\n",
       "    <tr style=\"text-align: right;\">\n",
       "      <th></th>\n",
       "      <th>date</th>\n",
       "      <th>weekday</th>\n",
       "    </tr>\n",
       "  </thead>\n",
       "  <tbody>\n",
       "    <tr>\n",
       "      <th>0</th>\n",
       "      <td>2014-07-08</td>\n",
       "      <td>Tuesday</td>\n",
       "    </tr>\n",
       "    <tr>\n",
       "      <th>1</th>\n",
       "      <td>2014-07-16</td>\n",
       "      <td>Wednesday</td>\n",
       "    </tr>\n",
       "    <tr>\n",
       "      <th>2</th>\n",
       "      <td>2014-07-08</td>\n",
       "      <td>Tuesday</td>\n",
       "    </tr>\n",
       "    <tr>\n",
       "      <th>3</th>\n",
       "      <td>2014-07-26</td>\n",
       "      <td>Saturday</td>\n",
       "    </tr>\n",
       "    <tr>\n",
       "      <th>4</th>\n",
       "      <td>2014-07-27</td>\n",
       "      <td>Sunday</td>\n",
       "    </tr>\n",
       "  </tbody>\n",
       "</table>\n",
       "</div>"
      ],
      "text/plain": [
       "        date    weekday\n",
       "0 2014-07-08    Tuesday\n",
       "1 2014-07-16  Wednesday\n",
       "2 2014-07-08    Tuesday\n",
       "3 2014-07-26   Saturday\n",
       "4 2014-07-27     Sunday"
      ]
     },
     "execution_count": 24,
     "metadata": {},
     "output_type": "execute_result"
    }
   ],
   "source": [
    "# Create new 'weekday' column\n",
    "violations['weekday'] = datetime_to_weekday(violations['date'])\n",
    "\n",
    "violations[['date','weekday']].head()"
   ]
  },
  {
   "cell_type": "code",
   "execution_count": 25,
   "metadata": {},
   "outputs": [
    {
     "data": {
      "image/png": "[encoded data removed]",
      "text/plain": [
       "<Figure size 576x360 with 1 Axes>"
      ]
     },
     "metadata": {
      "needs_background": "light"
     },
     "output_type": "display_data"
    },
    {
     "name": "stdout",
     "output_type": "stream",
     "text": [
      "weekday\n",
      "Saturday     39.792720\n",
      "Sunday       39.067801\n",
      "Friday       28.288643\n",
      "Thursday     26.609958\n",
      "Monday       25.745070\n",
      "Wednesday    25.599419\n",
      "Tuesday      25.103707\n",
      "Name: num_violations, dtype: float64\n"
     ]
    }
   ],
   "source": [
    "# Calculate average violations per weekday\n",
    "weekday_avg = violations.groupby('weekday')['num_violations'].mean()\n",
    "\n",
    "plt.figure(figsize=(8,5))\n",
    "weekday_avg.plot(kind='bar')\n",
    "plt.title('Average Citations per Weekday')\n",
    "plt.ylabel('citations')\n",
    "plt.tick_params(top=False, bottom=False, left=False, right=False)\n",
    "plt.show()\n",
    "print(weekday_avg.sort_values(ascending=False))"
   ]
  },
  {
   "cell_type": "markdown",
   "metadata": {},
   "source": [
    "Saturday and Sunday yield the highest average citations. This makes sense on an intuitive level, since weekends are likely to see increased traffic through all hours of the day, whereas business days likely have less traffic during business hours."
   ]
  },
  {
   "cell_type": "markdown",
   "metadata": {},
   "source": [
    "# Number of cameras by year"
   ]
  },
  {
   "cell_type": "code",
   "execution_count": 26,
   "metadata": {},
   "outputs": [
    {
     "data": {
      "text/html": [
       "<div>\n",
       "<style scoped>\n",
       "    .dataframe tbody tr th:only-of-type {\n",
       "        vertical-align: middle;\n",
       "    }\n",
       "\n",
       "    .dataframe tbody tr th {\n",
       "        vertical-align: top;\n",
       "    }\n",
       "\n",
       "    .dataframe thead th {\n",
       "        text-align: right;\n",
       "    }\n",
       "</style>\n",
       "<table border=\"1\" class=\"dataframe\">\n",
       "  <thead>\n",
       "    <tr style=\"text-align: right;\">\n",
       "      <th></th>\n",
       "      <th>date</th>\n",
       "      <th>year</th>\n",
       "    </tr>\n",
       "  </thead>\n",
       "  <tbody>\n",
       "    <tr>\n",
       "      <th>0</th>\n",
       "      <td>2014-07-08</td>\n",
       "      <td>2014</td>\n",
       "    </tr>\n",
       "    <tr>\n",
       "      <th>1</th>\n",
       "      <td>2014-07-16</td>\n",
       "      <td>2014</td>\n",
       "    </tr>\n",
       "    <tr>\n",
       "      <th>2</th>\n",
       "      <td>2014-07-08</td>\n",
       "      <td>2014</td>\n",
       "    </tr>\n",
       "    <tr>\n",
       "      <th>3</th>\n",
       "      <td>2014-07-26</td>\n",
       "      <td>2014</td>\n",
       "    </tr>\n",
       "    <tr>\n",
       "      <th>4</th>\n",
       "      <td>2014-07-27</td>\n",
       "      <td>2014</td>\n",
       "    </tr>\n",
       "  </tbody>\n",
       "</table>\n",
       "</div>"
      ],
      "text/plain": [
       "        date  year\n",
       "0 2014-07-08  2014\n",
       "1 2014-07-16  2014\n",
       "2 2014-07-08  2014\n",
       "3 2014-07-26  2014\n",
       "4 2014-07-27  2014"
      ]
     },
     "execution_count": 26,
     "metadata": {},
     "output_type": "execute_result"
    }
   ],
   "source": [
    "# Create a year column to make our exploration simpler\n",
    "violations['year'] = violations['date'].apply(lambda x: x.year)\n",
    "\n",
    "violations[['date','year']].head()"
   ]
  },
  {
   "cell_type": "code",
   "execution_count": 27,
   "metadata": {},
   "outputs": [
    {
     "data": {
      "image/png": "[encoded data removed]",
      "text/plain": [
       "<Figure size 432x288 with 1 Axes>"
      ]
     },
     "metadata": {
      "needs_background": "light"
     },
     "output_type": "display_data"
    },
    {
     "name": "stdout",
     "output_type": "stream",
     "text": [
      "{2014: 143, 2015: 150, 2016: 150, 2017: 150, 2018: 162}\n"
     ]
    }
   ],
   "source": [
    "cameras_by_year = {\n",
    "    2014: 0,\n",
    "    2015: 0,\n",
    "    2016: 0,\n",
    "    2017: 0,\n",
    "    2018: 0\n",
    "}\n",
    "\n",
    "for year in violations['year'].unique():\n",
    "    cameras_by_year[year] = violations[violations['year'] == year]['cam_id'].unique().shape[0]\n",
    "    \n",
    "\n",
    "fig, ax = plt.subplots()\n",
    "ax.bar(cameras_by_year.keys(), cameras_by_year.values())\n",
    "for spine in ax.spines:\n",
    "    ax.spines[spine].set_visible(False)\n",
    "ax.tick_params(top=False, bottom=False, left=False, right=False)\n",
    "plt.title('Number of Cameras by Year')\n",
    "plt.xlabel('Year')\n",
    "plt.ylabel('Cameras')\n",
    "plt.show()\n",
    "\n",
    "print(cameras_by_year)"
   ]
  },
  {
   "cell_type": "markdown",
   "metadata": {},
   "source": [
    "The city has indeed added cameras over the years, but very slowly. Three years saw no change at all in the number of cameras. I'm curious to see which cameras have been added. Also, this graph may not tell the entire story. It's possible the numbers in 2015-2017 aren't as stagnant as they appear; the city could have deactivated some older cameras and activated new cameras, for example. Let's have a look."
   ]
  },
  {
   "cell_type": "code",
   "execution_count": 28,
   "metadata": {},
   "outputs": [
    {
     "name": "stdout",
     "output_type": "stream",
     "text": [
      "Changes in 2015: \n",
      "{'CHI161', 'CHI164', 'CHI167', 'CHI159', 'CHI166', 'CHI144', 'CHI157'}\n",
      "\n",
      "Changes in 2016: \n",
      "set()\n",
      "\n",
      "Changes in 2017: \n",
      "set()\n",
      "\n",
      "Changes in 2018: \n",
      "{'CHI178', 'CHI173', 'CHI175', 'CHI184', 'CHI179', 'CHI182', 'CHI176', 'CHI180', 'CHI177', 'CHI174', 'CHI183', 'CHI181'}\n",
      "\n"
     ]
    }
   ],
   "source": [
    "# Construct sets containing cameras active each year\n",
    "cameras_2014 = set(violations[violations['year'] == 2014]['cam_id'].unique())\n",
    "cameras_2015 = set(violations[violations['year'] == 2015]['cam_id'].unique())\n",
    "cameras_2016 = set(violations[violations['year'] == 2016]['cam_id'].unique())\n",
    "cameras_2017 = set(violations[violations['year'] == 2017]['cam_id'].unique())\n",
    "cameras_2018 = set(violations[violations['year'] == 2018]['cam_id'].unique())\n",
    "\n",
    "# Print differences\n",
    "print('Changes in 2015: \\n{}\\n'.format(cameras_2015.difference(cameras_2014)))\n",
    "print('Changes in 2016: \\n{}\\n'.format(cameras_2016.difference(cameras_2015)))\n",
    "print('Changes in 2017: \\n{}\\n'.format(cameras_2017.difference(cameras_2016)))\n",
    "print('Changes in 2018: \\n{}\\n'.format(cameras_2018.difference(cameras_2017)))"
   ]
  },
  {
   "cell_type": "markdown",
   "metadata": {},
   "source": [
    "Based on our exploration, we can definitively state that there has been an increase in the number of cameras over the period we've explored. To be exact, 19 cameras have been added since 2014.\n",
    "\n",
    "It might be worth investigating whether those additions were worth the expense by seeing how many citations have been issued by the new cameras. Also worth investigating is whether the new cameras were placed in existing Children Safety Zones or if the city established new Children Safety Zones prior to the activation of the new cameras."
   ]
  },
  {
   "cell_type": "markdown",
   "metadata": {},
   "source": [
    "# Mapping the data"
   ]
  },
  {
   "cell_type": "code",
   "execution_count": 29,
   "metadata": {},
   "outputs": [
    {
     "name": "stdout",
     "output_type": "stream",
     "text": [
      "7738 S WESTERN\n",
      "1111 N HUMBOLDT\n",
      "5520 S WESTERN\n",
      "5529 S WESTERN\n",
      "7739 S WESTERN\n"
     ]
    }
   ],
   "source": [
    "# Let's fill in the missing location data\n",
    "# Identify cameras with missing location data\n",
    "missing_cam_loc = violations[violations['location'].isna()]['cam_id'].unique()\n",
    "\n",
    "# Print the address for each camera with missing location data\n",
    "for cam in missing_cam_loc:\n",
    "    print(violations[violations['cam_id']==cam]['cam_address'].iloc[0])"
   ]
  },
  {
   "cell_type": "markdown",
   "metadata": {},
   "source": [
    "I've found the latitude and longitude information for each address using google.\n",
    "\n",
    "| Address | Latitude | Longitude |\n",
    "|---------|----------|-----------|\n",
    "| 7738 S Western | 41.7526093 | -87.6853633 |\n",
    "| 1111 N Humboldt | 41.9028281 |-87.7044808 |\n",
    "| 5520 S Western | 41.791966 | -87.6862365 |\n",
    "| 5529 S Western | 41.7572161 | -87.6851846 |\n",
    "| 7739 S Western | 41.752613 | -87.6846589 |"
   ]
  },
  {
   "cell_type": "code",
   "execution_count": 30,
   "metadata": {},
   "outputs": [],
   "source": [
    "locations = {\n",
    "    missing_cam_loc[0]: [41.7526093, -87.6853633],\n",
    "    missing_cam_loc[1]: [41.9028281, -87.7044808],\n",
    "    missing_cam_loc[2]: [41.791966, -87.6862365],\n",
    "    missing_cam_loc[3]: [41.7572161, -87.6851846],\n",
    "    missing_cam_loc[4]: [41.752613, -87.6846589]\n",
    "}\n",
    "\n",
    "# Replace nan values in latitude and longitude columns with values extracted from google maps\n",
    "for cam, loc in locations.items():\n",
    "    violations.loc[violations['cam_id'] == cam, 'latitude'] = loc[0]\n",
    "    violations.loc[violations['cam_id'] == cam, 'longitude'] = loc[1]"
   ]
  },
  {
   "cell_type": "code",
   "execution_count": 31,
   "metadata": {},
   "outputs": [
    {
     "data": {
      "text/html": [
       "<div>\n",
       "<style scoped>\n",
       "    .dataframe tbody tr th:only-of-type {\n",
       "        vertical-align: middle;\n",
       "    }\n",
       "\n",
       "    .dataframe tbody tr th {\n",
       "        vertical-align: top;\n",
       "    }\n",
       "\n",
       "    .dataframe thead th {\n",
       "        text-align: right;\n",
       "    }\n",
       "</style>\n",
       "<table border=\"1\" class=\"dataframe\">\n",
       "  <thead>\n",
       "    <tr style=\"text-align: right;\">\n",
       "      <th></th>\n",
       "      <th>cam_address</th>\n",
       "      <th>cam_id</th>\n",
       "      <th>date</th>\n",
       "      <th>num_violations</th>\n",
       "      <th>x_coord</th>\n",
       "      <th>y_coord</th>\n",
       "      <th>latitude</th>\n",
       "      <th>longitude</th>\n",
       "      <th>location</th>\n",
       "      <th>weekday</th>\n",
       "      <th>year</th>\n",
       "    </tr>\n",
       "  </thead>\n",
       "  <tbody>\n",
       "    <tr>\n",
       "      <th>0</th>\n",
       "      <td>7738 S WESTERN</td>\n",
       "      <td>CHI065</td>\n",
       "      <td>2014-07-08</td>\n",
       "      <td>65</td>\n",
       "      <td>NaN</td>\n",
       "      <td>NaN</td>\n",
       "      <td>41.752609</td>\n",
       "      <td>-87.685363</td>\n",
       "      <td>NaN</td>\n",
       "      <td>Tuesday</td>\n",
       "      <td>2014</td>\n",
       "    </tr>\n",
       "    <tr>\n",
       "      <th>1</th>\n",
       "      <td>1111 N HUMBOLDT</td>\n",
       "      <td>CHI010</td>\n",
       "      <td>2014-07-16</td>\n",
       "      <td>56</td>\n",
       "      <td>NaN</td>\n",
       "      <td>NaN</td>\n",
       "      <td>41.902828</td>\n",
       "      <td>-87.704481</td>\n",
       "      <td>NaN</td>\n",
       "      <td>Wednesday</td>\n",
       "      <td>2014</td>\n",
       "    </tr>\n",
       "    <tr>\n",
       "      <th>2</th>\n",
       "      <td>5520 S WESTERN</td>\n",
       "      <td>CHI069</td>\n",
       "      <td>2014-07-08</td>\n",
       "      <td>10</td>\n",
       "      <td>NaN</td>\n",
       "      <td>NaN</td>\n",
       "      <td>41.791966</td>\n",
       "      <td>-87.686237</td>\n",
       "      <td>NaN</td>\n",
       "      <td>Tuesday</td>\n",
       "      <td>2014</td>\n",
       "    </tr>\n",
       "    <tr>\n",
       "      <th>3</th>\n",
       "      <td>1111 N HUMBOLDT</td>\n",
       "      <td>CHI010</td>\n",
       "      <td>2014-07-26</td>\n",
       "      <td>101</td>\n",
       "      <td>NaN</td>\n",
       "      <td>NaN</td>\n",
       "      <td>41.902828</td>\n",
       "      <td>-87.704481</td>\n",
       "      <td>NaN</td>\n",
       "      <td>Saturday</td>\n",
       "      <td>2014</td>\n",
       "    </tr>\n",
       "    <tr>\n",
       "      <th>4</th>\n",
       "      <td>1111 N HUMBOLDT</td>\n",
       "      <td>CHI010</td>\n",
       "      <td>2014-07-27</td>\n",
       "      <td>92</td>\n",
       "      <td>NaN</td>\n",
       "      <td>NaN</td>\n",
       "      <td>41.902828</td>\n",
       "      <td>-87.704481</td>\n",
       "      <td>NaN</td>\n",
       "      <td>Sunday</td>\n",
       "      <td>2014</td>\n",
       "    </tr>\n",
       "  </tbody>\n",
       "</table>\n",
       "</div>"
      ],
      "text/plain": [
       "       cam_address  cam_id       date  num_violations  x_coord  y_coord  \\\n",
       "0   7738 S WESTERN  CHI065 2014-07-08              65      NaN      NaN   \n",
       "1  1111 N HUMBOLDT  CHI010 2014-07-16              56      NaN      NaN   \n",
       "2   5520 S WESTERN  CHI069 2014-07-08              10      NaN      NaN   \n",
       "3  1111 N HUMBOLDT  CHI010 2014-07-26             101      NaN      NaN   \n",
       "4  1111 N HUMBOLDT  CHI010 2014-07-27              92      NaN      NaN   \n",
       "\n",
       "    latitude  longitude location    weekday  year  \n",
       "0  41.752609 -87.685363      NaN    Tuesday  2014  \n",
       "1  41.902828 -87.704481      NaN  Wednesday  2014  \n",
       "2  41.791966 -87.686237      NaN    Tuesday  2014  \n",
       "3  41.902828 -87.704481      NaN   Saturday  2014  \n",
       "4  41.902828 -87.704481      NaN     Sunday  2014  "
      ]
     },
     "execution_count": 31,
     "metadata": {},
     "output_type": "execute_result"
    }
   ],
   "source": [
    "violations.head()"
   ]
  },
  {
   "cell_type": "code",
   "execution_count": 32,
   "metadata": {},
   "outputs": [
    {
     "name": "stdout",
     "output_type": "stream",
     "text": [
      "CHI065:\n",
      "['7738 S WESTERN']\n",
      "\n",
      "CHI010:\n",
      "['1111 N HUMBOLDT']\n",
      "\n",
      "CHI069:\n",
      "['5520 S WESTERN']\n",
      "\n",
      "CHI068:\n",
      "['5529 S WESTERN']\n",
      "\n",
      "CHI064:\n",
      "['7739 S WESTERN']\n",
      "\n",
      "CHI020:\n",
      "['2912 W ROOSEVELT']\n",
      "\n",
      "CHI136:\n",
      "['346 W 76th ST']\n",
      "\n",
      "CHI022:\n",
      "['11153 S VINCENNES']\n",
      "\n",
      "CHI050:\n",
      "['5454 W IRVING PARK']\n",
      "\n",
      "CHI042:\n",
      "['5446 W FULLERTON']\n",
      "\n",
      "CHI105:\n",
      "['6443 W BELMONT AVE']\n",
      "\n",
      "CHI080:\n",
      "['2712 W IRVING PARK']\n",
      "\n",
      "CHI049:\n",
      "['4123 N CENTRAL AVE']\n",
      "\n",
      "CHI023:\n",
      "['11144 S VINCENNES']\n",
      "\n",
      "CHI056:\n",
      "['4432 N LINCOLN']\n",
      "\n",
      "CHI089:\n",
      "['3810 W BELMONT AVE']\n",
      "\n",
      "CHI140:\n",
      "['3535 E 95TH ST']\n",
      "\n",
      "CHI036:\n",
      "['62 E 95TH']\n",
      "\n",
      "CHI116:\n",
      "['4674 W PETERSON AVE']\n",
      "\n",
      "CHI141:\n",
      "['3542 E 95TH ST']\n",
      "\n",
      "CHI115:\n",
      "['4707 W PETERSON AVE']\n",
      "\n",
      "CHI124:\n",
      "['449 N COLUMBUS DR']\n",
      "\n",
      "CHI139:\n",
      "['14 W CHICAGO AVE']\n",
      "\n",
      "CHI092:\n",
      "['2432 N ASHLAND']\n",
      "\n",
      "CHI142:\n",
      "['9618 S EWING AVE']\n",
      "\n",
      "CHI125:\n",
      "['450 N COLUMBUS DR']\n",
      "\n",
      "CHI058:\n",
      "['5816 W JACKSON']\n",
      "\n",
      "CHI117:\n",
      "['2928 S HALSTED']\n",
      "\n",
      "CHI128:\n",
      "['1226 N WESTERN AVE']\n",
      "\n",
      "CHI108:\n",
      "['4040 W CHICAGO AVE']\n",
      "\n",
      "CHI034:\n",
      "['630 S STATE']\n",
      "\n",
      "CHI070:\n",
      "['2513 W 55TH']\n",
      "\n",
      "CHI087:\n",
      "['3230 N MILWAUKEE AVE']\n",
      "\n",
      "CHI043:\n",
      "['5440 W GRAND']\n",
      "\n",
      "CHI078:\n",
      "['2721 W MONTROSE']\n",
      "\n",
      "CHI021:\n",
      "['2900 W OGDEN']\n",
      "\n",
      "CHI032:\n",
      "['4965 S ARCHER']\n",
      "\n",
      "CHI126:\n",
      "['319 E ILLINOIS ST' '324 E ILLINOIS ST']\n",
      "\n",
      "CHI025:\n",
      "['3034 W FOSTER']\n",
      "\n",
      "CHI104:\n",
      "['3115 N NARRAGANSETT AVE']\n",
      "\n",
      "CHI137:\n",
      "['341 W 76th ST']\n",
      "\n",
      "CHI130:\n",
      "['506 S CENTRAL AVE']\n",
      "\n",
      "CHI077:\n",
      "['115 N OGDEN']\n",
      "\n",
      "CHI101:\n",
      "['7422 S JEFFERY']\n",
      "\n",
      "CHI109:\n",
      "['732 N PULASKI RD']\n",
      "\n",
      "CHI057:\n",
      "['515 S CENTRAL AVE']\n",
      "\n",
      "CHI028:\n",
      "['2549 W ADDISON']\n",
      "\n",
      "CHI123:\n",
      "['324 S KEDZIE AVE']\n",
      "\n",
      "CHI027:\n",
      "['3534 N WESTERN']\n",
      "\n",
      "CHI075:\n",
      "['141 N ASHLAND']\n",
      "\n",
      "CHI074:\n",
      "['3832 W 79TH']\n",
      "\n",
      "CHI039:\n",
      "['6247 W FULLERTON']\n",
      "\n",
      "CHI114:\n",
      "['6125 N CICERO AVE']\n",
      "\n",
      "CHI045:\n",
      "['445 W 127TH']\n",
      "\n",
      "CHI118:\n",
      "['5420 S RACINE AVE']\n",
      "\n",
      "CHI088:\n",
      "['3809 W BELMONT AVE']\n",
      "\n",
      "CHI063:\n",
      "['7518 S VINCENNES']\n",
      "\n",
      "CHI015:\n",
      "['3450 W 71ST']\n",
      "\n",
      "CHI095:\n",
      "['1142 W IRVING PARK']\n",
      "\n",
      "CHI129:\n",
      "['2329 W DIVISION ST']\n",
      "\n",
      "CHI149:\n",
      "['4909 N CICERO AVE']\n",
      "\n",
      "CHI018:\n",
      "['6818 S KEDZIE']\n",
      "\n",
      "CHI107:\n",
      "['4041 W CHICAGO AVE']\n",
      "\n",
      "CHI024:\n",
      "['3137 W PETERSON']\n",
      "\n",
      "CHI090:\n",
      "['2448 N CLYBOURN AVE']\n",
      "\n",
      "CHI086:\n",
      "['4620 W BELMONT AVE']\n",
      "\n",
      "CHI060:\n",
      "['5428 S PULASKI']\n",
      "\n",
      "CHI112:\n",
      "['1635 N ASHLAND AVE']\n",
      "\n",
      "CHI051:\n",
      "['6523 N WESTERN']\n",
      "\n",
      "CHI061:\n",
      "['4045 W 55TH']\n",
      "\n",
      "CHI062:\n",
      "['4040 W 55TH']\n",
      "\n",
      "CHI100:\n",
      "['5025 S WESTERN AVE']\n",
      "\n",
      "CHI132:\n",
      "['3116 N NARRAGANSETT AVE']\n",
      "\n",
      "CHI103:\n",
      "['5432 W LAWRENCE']\n",
      "\n",
      "CHI106:\n",
      "['6514 W BELMONT AVE']\n",
      "\n",
      "CHI143:\n",
      "['1440 W CERMAK RD']\n",
      "\n",
      "CHI071:\n",
      "['7833 S PULASKI']\n",
      "\n",
      "CHI083:\n",
      "['6226 W IRVING PARK RD']\n",
      "\n",
      "CHI067:\n",
      "['2550 W 79TH']\n",
      "\n",
      "CHI098:\n",
      "['2445 W 51ST ST']\n",
      "\n",
      "CHI076:\n",
      "['140 N ASHLAND']\n",
      "\n",
      "CHI003:\n",
      "['4124 W FOSTER AVE']\n",
      "\n",
      "CHI072:\n",
      "['7826 S PULASKI']\n",
      "\n",
      "CHI154:\n",
      "['2416 W 103RD ST']\n",
      "\n",
      "CHI122:\n",
      "['3047 W JACKSON BLVD']\n",
      "\n",
      "CHI029:\n",
      "['536 E MORGAN DR']\n",
      "\n",
      "CHI059:\n",
      "['5433 S PULASKI']\n",
      "\n",
      "CHI102:\n",
      "['5471 W HIGGINS']\n",
      "\n",
      "CHI004:\n",
      "['5120 N PULASKI']\n",
      "\n",
      "CHI127:\n",
      "['1229 N WESTERN AVE']\n",
      "\n",
      "CHI033:\n",
      "['629 S STATE']\n",
      "\n",
      "CHI031:\n",
      "['5030 S PULASKI']\n",
      "\n",
      "CHI040:\n",
      "['6250 W FULLERTON']\n",
      "\n",
      "CHI019:\n",
      "['2917 W ROOSEVELT']\n",
      "\n",
      "CHI135:\n",
      "['2108 S WESTERN AVE']\n",
      "\n",
      "CHI035:\n",
      "['57 E 95TH']\n",
      "\n",
      "CHI079:\n",
      "['2705 W IRVING PARK']\n",
      "\n",
      "CHI005:\n",
      "['2080 W PERSHING']\n",
      "\n",
      "CHI110:\n",
      "['2335 W CERMAK RD']\n",
      "\n",
      "CHI048:\n",
      "['3843 W 111TH']\n",
      "\n",
      "CHI091:\n",
      "['2443 N ASHLAND']\n",
      "\n",
      "CHI119:\n",
      "['1334 W GARFIELD BLVD']\n",
      "\n",
      "CHI094:\n",
      "['4436 N WESTERN']\n",
      "\n",
      "CHI041:\n",
      "['5509 W FULLERTON']\n",
      "\n",
      "CHI013:\n",
      "['5330 S COTTAGE GROVE']\n",
      "\n",
      "CHI113:\n",
      "['1638 N ASHLAND AVE']\n",
      "\n",
      "CHI066:\n",
      "['2603 W 79TH']\n",
      "\n",
      "CHI111:\n",
      "['2326 W CERMAK RD']\n",
      "\n",
      "CHI014:\n",
      "['6909 S KEDZIE']\n",
      "\n",
      "CHI055:\n",
      "['4433 N WESTERN']\n",
      "\n",
      "CHI008:\n",
      "['3655 W JACKSON']\n",
      "\n",
      "CHI011:\n",
      "['3100 W AUGUSTA']\n",
      "\n",
      "CHI121:\n",
      "['1315 W GARFIELD BLVD']\n",
      "\n",
      "CHI097:\n",
      "['4446 N BROADWAY']\n",
      "\n",
      "CHI096:\n",
      "['4429 N BROADWAY']\n",
      "\n",
      "CHI099:\n",
      "['2440 W 51ST ST']\n",
      "\n",
      "CHI093:\n",
      "['5885 N RIDGE AVE']\n",
      "\n",
      "CHI131:\n",
      "['18 W SUPERIOR ST']\n",
      "\n",
      "CHI168:\n",
      "['8345 S ASHLAND AVE']\n",
      "\n",
      "CHI169:\n",
      "['8318 S ASHLAND AVE']\n",
      "\n",
      "CHI120:\n",
      "['10318 S INDIANAPOLIS']\n",
      "\n",
      "CHI007:\n",
      "['3843 S WESTERN']\n",
      "\n",
      "CHI165:\n",
      "['2417 W 103RD ST']\n",
      "\n",
      "CHI159:\n",
      "['4053 W NORTH AVE']\n",
      "\n",
      "CHI170:\n",
      "['1507 W 83rd ST']\n",
      "\n",
      "CHI158:\n",
      "['6510 W BRYN MAWR AVE']\n",
      "\n",
      "CHI162:\n",
      "['1117 S PULASKI RD']\n",
      "\n",
      "CHI144:\n",
      "['3200 S ARCHER AVE']\n",
      "\n",
      "CHI157:\n",
      "['1754 N PULASKI RD']\n",
      "\n",
      "CHI163:\n",
      "['1110 S PULASKI RD']\n",
      "\n",
      "CHI138:\n",
      "['1901 E 75TH ST']\n",
      "\n",
      "CHI161:\n",
      "['4042 W NORTH AVE']\n",
      "\n",
      "CHI009:\n",
      "['3646 W MADISON']\n",
      "\n",
      "CHI147:\n",
      "['4831 W LAWRENCE AVE']\n",
      "\n",
      "CHI156:\n",
      "['5739 N NORTHWEST HWY']\n",
      "\n",
      "CHI160:\n",
      "['4042 W ROOSEVELT RD']\n",
      "\n",
      "CHI146:\n",
      "['215 E 63RD ST']\n",
      "\n",
      "CHI145:\n",
      "['2109 E 87TH ST']\n",
      "\n",
      "CHI166:\n",
      "['3217 W 55TH ST']\n",
      "\n",
      "CHI134:\n",
      "['2115 S WESTERN AVE']\n",
      "\n",
      "CHI133:\n",
      "['19 W CHICAGO AVE']\n",
      "\n",
      "CHI148:\n",
      "['6330 S MARTIN LUTHER KING']\n",
      "\n",
      "CHI172:\n",
      "['3130 N ASHLAND AVE']\n",
      "\n",
      "CHI030:\n",
      "['4929 S PULASKI']\n",
      "\n",
      "CHI073:\n",
      "['3851 W 79th']\n",
      "\n",
      "CHI167:\n",
      "['3212 W 55TH ST']\n",
      "\n",
      "CHI164:\n",
      "['5532 S KEDZIE AVE']\n",
      "\n",
      "CHI044:\n",
      "['4843 W FULLERTON']\n",
      "\n",
      "CHI171:\n",
      "['3111 N ASHLAND AVE']\n",
      "\n",
      "CHI026:\n",
      "['3521 N WESTERN']\n",
      "\n",
      "CHI176:\n",
      "['8006 W ADDISON ST']\n",
      "\n",
      "CHI177:\n",
      "['3911 W DIVERSEY AVE']\n",
      "\n",
      "CHI175:\n",
      "['8043 W ADDISON ST']\n",
      "\n",
      "CHI173:\n",
      "['5006 S WESTERN BLVD']\n",
      "\n",
      "CHI174:\n",
      "['8020 W FOREST PRESERVE AV']\n",
      "\n",
      "CHI181:\n",
      "['819 E 71ST ST']\n",
      "\n",
      "CHI180:\n",
      "['7157 S SOUTH CHICAGO AVE']\n",
      "\n",
      "CHI184:\n",
      "['7122 S SOUTH CHICAGO AVE']\n",
      "\n",
      "CHI179:\n",
      "['4246 W 47TH ST']\n",
      "\n",
      "CHI178:\n",
      "['4319 W 47TH ST']\n",
      "\n",
      "CHI183:\n",
      "['1444 W DIVISION ST']\n",
      "\n",
      "CHI182:\n",
      "['1455 W DIVISION ST']\n",
      "\n"
     ]
    }
   ],
   "source": [
    "# Make sure each camera has only one location\n",
    "for cam in violations['cam_id'].unique():\n",
    "    print('{0}:\\n{1}\\n'.format(cam,violations[violations['cam_id'] == cam]['cam_address'].unique()))"
   ]
  },
  {
   "cell_type": "markdown",
   "metadata": {},
   "source": [
    "That was a lot to sift through, but one of the cameras has 2 locations, so let's identify both cameras as separate entities."
   ]
  },
  {
   "cell_type": "code",
   "execution_count": 33,
   "metadata": {},
   "outputs": [],
   "source": [
    "violations.loc[violations['cam_address'] == '319 E ILLINOIS ST', 'cam_id'] = 'CHI126-1'\n",
    "violations.loc[violations['cam_address'] == '324 E ILLINOIS ST', 'cam_id'] = 'CHI126-2'"
   ]
  },
  {
   "cell_type": "code",
   "execution_count": 34,
   "metadata": {},
   "outputs": [
    {
     "data": {
      "text/html": [
       "<div>\n",
       "<style scoped>\n",
       "    .dataframe tbody tr th:only-of-type {\n",
       "        vertical-align: middle;\n",
       "    }\n",
       "\n",
       "    .dataframe tbody tr th {\n",
       "        vertical-align: top;\n",
       "    }\n",
       "\n",
       "    .dataframe thead th {\n",
       "        text-align: right;\n",
       "    }\n",
       "</style>\n",
       "<table border=\"1\" class=\"dataframe\">\n",
       "  <thead>\n",
       "    <tr style=\"text-align: right;\">\n",
       "      <th></th>\n",
       "      <th>id</th>\n",
       "      <th>address</th>\n",
       "      <th>latitude</th>\n",
       "      <th>longitude</th>\n",
       "      <th>citations</th>\n",
       "    </tr>\n",
       "  </thead>\n",
       "  <tbody>\n",
       "    <tr>\n",
       "      <th>0</th>\n",
       "      <td>CHI003</td>\n",
       "      <td>4124 W FOSTER AVE</td>\n",
       "      <td>41.975605</td>\n",
       "      <td>-87.731670</td>\n",
       "      <td>116.335859</td>\n",
       "    </tr>\n",
       "    <tr>\n",
       "      <th>1</th>\n",
       "      <td>CHI004</td>\n",
       "      <td>5120 N PULASKI</td>\n",
       "      <td>41.974333</td>\n",
       "      <td>-87.728347</td>\n",
       "      <td>34.781192</td>\n",
       "    </tr>\n",
       "    <tr>\n",
       "      <th>2</th>\n",
       "      <td>CHI005</td>\n",
       "      <td>2080 W PERSHING</td>\n",
       "      <td>41.823189</td>\n",
       "      <td>-87.677349</td>\n",
       "      <td>12.046569</td>\n",
       "    </tr>\n",
       "    <tr>\n",
       "      <th>3</th>\n",
       "      <td>CHI007</td>\n",
       "      <td>3843 S WESTERN</td>\n",
       "      <td>41.823564</td>\n",
       "      <td>-87.684721</td>\n",
       "      <td>59.697837</td>\n",
       "    </tr>\n",
       "    <tr>\n",
       "      <th>4</th>\n",
       "      <td>CHI008</td>\n",
       "      <td>3655 W JACKSON</td>\n",
       "      <td>41.877071</td>\n",
       "      <td>-87.718168</td>\n",
       "      <td>19.142241</td>\n",
       "    </tr>\n",
       "  </tbody>\n",
       "</table>\n",
       "</div>"
      ],
      "text/plain": [
       "       id            address   latitude  longitude   citations\n",
       "0  CHI003  4124 W FOSTER AVE  41.975605 -87.731670  116.335859\n",
       "1  CHI004     5120 N PULASKI  41.974333 -87.728347   34.781192\n",
       "2  CHI005    2080 W PERSHING  41.823189 -87.677349   12.046569\n",
       "3  CHI007     3843 S WESTERN  41.823564 -87.684721   59.697837\n",
       "4  CHI008     3655 W JACKSON  41.877071 -87.718168   19.142241"
      ]
     },
     "execution_count": 34,
     "metadata": {},
     "output_type": "execute_result"
    }
   ],
   "source": [
    "# Generate our subset\n",
    "map_data_dict = {\n",
    "    'id':  violations['cam_id'].unique(),\n",
    "    'address': violations['cam_address'].unique(),\n",
    "    'latitude': violations['latitude'].unique(),\n",
    "    'longitude': violations['longitude'].unique()\n",
    "}\n",
    "\n",
    "map_data = pd.DataFrame(map_data_dict)\n",
    "\n",
    "# Let's sort our dataframe by camera id\n",
    "map_data = map_data.sort_values('id').reset_index(drop=True)\n",
    "\n",
    "# Recalculate citation averages per camera since we've split one into two\n",
    "cam_avg = violations.groupby('cam_id')['num_violations'].mean()\n",
    "\n",
    "# Create citations column from the averages just calculated\n",
    "map_data['citations'] = cam_avg.values\n",
    "\n",
    "map_data.head()"
   ]
  },
  {
   "cell_type": "code",
   "execution_count": 35,
   "metadata": {
    "scrolled": false
   },
   "outputs": [
    {
     "data": {
      "text/html": [
       "<div style=\"width:100%;\"><div style=\"position:relative;width:100%;height:0;padding-bottom:60%;\"><iframe src=\"data:text/html;charset=utf-8;base64,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\" style=\"position:absolute;width:100%;height:100%;left:0;top:0;border:none !important;\" allowfullscreen webkitallowfullscreen mozallowfullscreen></iframe></div></div>"
      ],
      "text/plain": [
       "<folium.folium.Map at 0x7f33759962b0>"
      ]
     },
     "execution_count": 35,
     "metadata": {},
     "output_type": "execute_result"
    }
   ],
   "source": [
    "import folium\n",
    "\n",
    "# Create our folium map\n",
    "chicago_map = folium.Map(location=[41.8390191,-87.5785065], zoom_start=10, tiles='OpenStreetMap')\n",
    "\n",
    "# Put circles on the map at the cameras' locations\n",
    "for i in range(map_data.shape[0]):\n",
    "    latitude = map_data.loc[i, 'latitude']\n",
    "    longitude = map_data.loc[i, 'longitude']\n",
    "    citations = map_data.loc[i, 'citations']\n",
    "    address = map_data.loc[i, 'address']\n",
    "    \n",
    "    if 0 <= citations < 5:\n",
    "        color = 'cadetblue'\n",
    "    elif 5 <= citations < 35:\n",
    "        color = 'green'\n",
    "    elif 35 <= citations < 75:\n",
    "        color = 'darkgreen'       \n",
    "    elif 75 <= citations < 100:\n",
    "        color = 'orange'\n",
    "    elif citations >= 100:\n",
    "        color = 'darkred'\n",
    "    \n",
    "    popup_text = 'Avg. Citations: {0}\\nAddress: {1}\\nLatitude: {2}\\nLongitude: {3}'.format(\n",
    "        citations, address, latitude, longitude)\n",
    "    \n",
    "    folium.CircleMarker(location=[latitude, longitude], popup=popup_text, radius=citations/10, \n",
    "                        color=color, fill=True).add_to(chicago_map)\n",
    "    \n",
    "chicago_map"
   ]
  },
  {
   "cell_type": "markdown",
   "metadata": {},
   "source": [
    "It certainly does look like the cameras with the highest yields are located in high-traffic areas, which many of them located near highways or expressways. It may be worthwhile to break the city up into districts and see if any of the districts with the highest number of citations or cameras correlate with certain demographic features. We'd need to import another dataset for that project, but I suspect it would tell some interesting stories."
   ]
  },
  {
   "cell_type": "markdown",
   "metadata": {},
   "source": [
    "# Conclusions\n",
    "\n",
    "We've made some interesting discoveries in this project, most of which have introduced more questions! We've discovered, as we'd hoped to discover, that the average number of citations per camera, per day is approximately 19, that most citations are issued on Saturday, with Sunday a close second, and that the city has increased the number of cameras since over the period of our exploration. But we also saw that those answers don't tell a complete story; while the average seems low, some of the cameras are issuing a phenomenal number of citations on a daily basis, and though the city has increased the number of active cameras, we don't yet know whether the new cameras have impacted the number of citations issued. We're also not sure whether the cameras' locations are disproportionately affecting one demographic. They may not be, but for me at least that's a question which must be posed.\n",
    "\n",
    "Where do we go from here? As I've mentioned in the passage above, I'd really like to dig down into the demographics of each district and see whether or not the cameras affect one group more than any other. I also wonder if there is data relating the traffic volume for Chicago's streets. This could provide more insight into why some cameras issue a much larger volume of citations than others. "
   ]
  },
  {
   "cell_type": "markdown",
   "metadata": {},
   "source": [
    "# Next Steps\n",
    "\n",
    "1. Find demographic data and search for data relating to traffic volume\n",
    "2. Make graphs prettier"
   ]
  },
  {
   "cell_type": "code",
   "execution_count": null,
   "metadata": {},
   "outputs": [],
   "source": []
  }
 ],
 "metadata": {
  "kernelspec": {
   "display_name": "Python 3",
   "language": "python",
   "name": "python3"
  },
  "language_info": {
   "codemirror_mode": {
    "name": "ipython",
    "version": 3
   },
   "file_extension": ".py",
   "mimetype": "text/x-python",
   "name": "python",
   "nbconvert_exporter": "python",
   "pygments_lexer": "ipython3",
   "version": "3.7.1"
  }
 },
 "nbformat": 4,
 "nbformat_minor": 2
}
