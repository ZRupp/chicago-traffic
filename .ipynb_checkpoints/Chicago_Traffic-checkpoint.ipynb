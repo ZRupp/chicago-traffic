{
 "cells": [
  {
   "cell_type": "markdown",
   "metadata": {},
   "source": [
    "# Analyzing Chicago Traffic Data\n",
    "\n",
    "The purpose of this project is to explore the City of Chicago's [Speed Camera Violations dataset](https://data.cityofchicago.org/Transportation/Speed-Camera-Violations/hhkd-xvj4), an aggregated dataset reflecting the daily volume of violations that have occurred in Children's Safety Zones for each camera. \n",
    "\n",
    "In this project, we'll be answering the following questions:\n",
    "- What is the average number of citations issued per camera, per day?\n",
    "- On which day of the week are the most citations issued?\n",
    "- Have the number of active cameras increased or decreased over the collection period?\n",
    "- Are there any interesting patterns or specific outliers in the data?"
   ]
  },
  {
   "cell_type": "markdown",
   "metadata": {},
   "source": [
    "# Introducing the data"
   ]
  },
  {
   "cell_type": "code",
   "execution_count": 1,
   "metadata": {},
   "outputs": [
    {
     "data": {
      "text/html": [
       "<div>\n",
       "<style scoped>\n",
       "    .dataframe tbody tr th:only-of-type {\n",
       "        vertical-align: middle;\n",
       "    }\n",
       "\n",
       "    .dataframe tbody tr th {\n",
       "        vertical-align: top;\n",
       "    }\n",
       "\n",
       "    .dataframe thead th {\n",
       "        text-align: right;\n",
       "    }\n",
       "</style>\n",
       "<table border=\"1\" class=\"dataframe\">\n",
       "  <thead>\n",
       "    <tr style=\"text-align: right;\">\n",
       "      <th></th>\n",
       "      <th>ADDRESS</th>\n",
       "      <th>CAMERA ID</th>\n",
       "      <th>VIOLATION DATE</th>\n",
       "      <th>VIOLATIONS</th>\n",
       "      <th>X COORDINATE</th>\n",
       "      <th>Y COORDINATE</th>\n",
       "      <th>LATITUDE</th>\n",
       "      <th>LONGITUDE</th>\n",
       "      <th>LOCATION</th>\n",
       "    </tr>\n",
       "  </thead>\n",
       "  <tbody>\n",
       "    <tr>\n",
       "      <th>0</th>\n",
       "      <td>7738 S WESTERN</td>\n",
       "      <td>CHI065</td>\n",
       "      <td>07/08/2014</td>\n",
       "      <td>65</td>\n",
       "      <td>NaN</td>\n",
       "      <td>NaN</td>\n",
       "      <td>NaN</td>\n",
       "      <td>NaN</td>\n",
       "      <td>NaN</td>\n",
       "    </tr>\n",
       "    <tr>\n",
       "      <th>1</th>\n",
       "      <td>1111 N HUMBOLDT</td>\n",
       "      <td>CHI010</td>\n",
       "      <td>07/16/2014</td>\n",
       "      <td>56</td>\n",
       "      <td>NaN</td>\n",
       "      <td>NaN</td>\n",
       "      <td>NaN</td>\n",
       "      <td>NaN</td>\n",
       "      <td>NaN</td>\n",
       "    </tr>\n",
       "    <tr>\n",
       "      <th>2</th>\n",
       "      <td>5520 S WESTERN</td>\n",
       "      <td>CHI069</td>\n",
       "      <td>07/08/2014</td>\n",
       "      <td>10</td>\n",
       "      <td>NaN</td>\n",
       "      <td>NaN</td>\n",
       "      <td>NaN</td>\n",
       "      <td>NaN</td>\n",
       "      <td>NaN</td>\n",
       "    </tr>\n",
       "    <tr>\n",
       "      <th>3</th>\n",
       "      <td>1111 N HUMBOLDT</td>\n",
       "      <td>CHI010</td>\n",
       "      <td>07/26/2014</td>\n",
       "      <td>101</td>\n",
       "      <td>NaN</td>\n",
       "      <td>NaN</td>\n",
       "      <td>NaN</td>\n",
       "      <td>NaN</td>\n",
       "      <td>NaN</td>\n",
       "    </tr>\n",
       "    <tr>\n",
       "      <th>4</th>\n",
       "      <td>1111 N HUMBOLDT</td>\n",
       "      <td>CHI010</td>\n",
       "      <td>07/27/2014</td>\n",
       "      <td>92</td>\n",
       "      <td>NaN</td>\n",
       "      <td>NaN</td>\n",
       "      <td>NaN</td>\n",
       "      <td>NaN</td>\n",
       "      <td>NaN</td>\n",
       "    </tr>\n",
       "  </tbody>\n",
       "</table>\n",
       "</div>"
      ],
      "text/plain": [
       "           ADDRESS CAMERA ID VIOLATION DATE  VIOLATIONS  X COORDINATE  \\\n",
       "0   7738 S WESTERN    CHI065     07/08/2014          65           NaN   \n",
       "1  1111 N HUMBOLDT    CHI010     07/16/2014          56           NaN   \n",
       "2   5520 S WESTERN    CHI069     07/08/2014          10           NaN   \n",
       "3  1111 N HUMBOLDT    CHI010     07/26/2014         101           NaN   \n",
       "4  1111 N HUMBOLDT    CHI010     07/27/2014          92           NaN   \n",
       "\n",
       "   Y COORDINATE  LATITUDE  LONGITUDE LOCATION  \n",
       "0           NaN       NaN        NaN      NaN  \n",
       "1           NaN       NaN        NaN      NaN  \n",
       "2           NaN       NaN        NaN      NaN  \n",
       "3           NaN       NaN        NaN      NaN  \n",
       "4           NaN       NaN        NaN      NaN  "
      ]
     },
     "execution_count": 1,
     "metadata": {},
     "output_type": "execute_result"
    }
   ],
   "source": [
    "import pandas as pd\n",
    "import numpy as np\n",
    "\n",
    "violations = pd.read_csv('Speed_Camera_Violations.csv')\n",
    "\n",
    "violations.head()"
   ]
  },
  {
   "cell_type": "code",
   "execution_count": 2,
   "metadata": {},
   "outputs": [
    {
     "data": {
      "text/plain": [
       "(170521, 9)"
      ]
     },
     "execution_count": 2,
     "metadata": {},
     "output_type": "execute_result"
    }
   ],
   "source": [
    "violations.shape"
   ]
  },
  {
   "cell_type": "code",
   "execution_count": 3,
   "metadata": {},
   "outputs": [
    {
     "data": {
      "text/plain": [
       "'12/22/2018'"
      ]
     },
     "execution_count": 3,
     "metadata": {},
     "output_type": "execute_result"
    }
   ],
   "source": [
    "violations['VIOLATION DATE'].iloc[-1]"
   ]
  },
  {
   "cell_type": "markdown",
   "metadata": {},
   "source": [
    "The dataset contains 170521 violations spanning a period beginning 07/08/2014 and ending 12/22/2018. The 9 columns describe the following, taken from [here](https://data.cityofchicago.org/Transportation/Speed-Camera-Violations/hhkd-xvj4):\n",
    "\n",
    "- ADDRESS: Address of the location of the speed enforcement camera(s). There may be more than one camera at each address.\n",
    "- CAMERA ID: A unique ID associated with the physical camera at each location. There may be more than one camera at a physical address.\n",
    "- VIOLATION DATE: The date of when the violations occurred. NOTE: The citation may be issued on a different date.\n",
    "- VIOLATIONS: Number of violations for each camera on a particular day.\n",
    "- X COORDINATE: The X Coordinate, measured in feet, of the location of the camera. Geocoded using Illinois State Plane East (ESRI:102671).\n",
    "- Y COORDINATE: The Y Coordinate, measured in feet, of the location of the camera. Geocoded using Illinois State Plane East (ESRI:102671).\n",
    "- LATITUDE: The latitude of the physical location of the camera(s) based on the ADDRESS column. Geocoded using the WGS84.\n",
    "- LONGITUDE: The longitude of the physical location of the camera(s) based on the ADDRESS column. Geocoded using the WGS84.\n",
    "- LOCATION: The coordinates of the camera(s) based on the LATITUDE and LONGITUDE columns. Geocoded using the WGS84.\n",
    "\n",
    "Before getting started, let's try to make the column names a little easier to work with."
   ]
  },
  {
   "cell_type": "code",
   "execution_count": 4,
   "metadata": {},
   "outputs": [],
   "source": [
    "columns = [\n",
    "    'cam_address',\n",
    "    'cam_id',\n",
    "    'date',\n",
    "    'num_violations',\n",
    "    'x_coord',\n",
    "    'y_coord',\n",
    "    'latitude',\n",
    "    'longitude',\n",
    "    'location'\n",
    "]\n",
    "\n",
    "violations.columns = columns"
   ]
  },
  {
   "cell_type": "code",
   "execution_count": 5,
   "metadata": {},
   "outputs": [
    {
     "data": {
      "text/html": [
       "<div>\n",
       "<style scoped>\n",
       "    .dataframe tbody tr th:only-of-type {\n",
       "        vertical-align: middle;\n",
       "    }\n",
       "\n",
       "    .dataframe tbody tr th {\n",
       "        vertical-align: top;\n",
       "    }\n",
       "\n",
       "    .dataframe thead th {\n",
       "        text-align: right;\n",
       "    }\n",
       "</style>\n",
       "<table border=\"1\" class=\"dataframe\">\n",
       "  <thead>\n",
       "    <tr style=\"text-align: right;\">\n",
       "      <th></th>\n",
       "      <th>cam_address</th>\n",
       "      <th>cam_id</th>\n",
       "      <th>date</th>\n",
       "      <th>num_violations</th>\n",
       "      <th>x_coord</th>\n",
       "      <th>y_coord</th>\n",
       "      <th>latitude</th>\n",
       "      <th>longitude</th>\n",
       "      <th>location</th>\n",
       "    </tr>\n",
       "  </thead>\n",
       "  <tbody>\n",
       "    <tr>\n",
       "      <th>0</th>\n",
       "      <td>7738 S WESTERN</td>\n",
       "      <td>CHI065</td>\n",
       "      <td>07/08/2014</td>\n",
       "      <td>65</td>\n",
       "      <td>NaN</td>\n",
       "      <td>NaN</td>\n",
       "      <td>NaN</td>\n",
       "      <td>NaN</td>\n",
       "      <td>NaN</td>\n",
       "    </tr>\n",
       "    <tr>\n",
       "      <th>1</th>\n",
       "      <td>1111 N HUMBOLDT</td>\n",
       "      <td>CHI010</td>\n",
       "      <td>07/16/2014</td>\n",
       "      <td>56</td>\n",
       "      <td>NaN</td>\n",
       "      <td>NaN</td>\n",
       "      <td>NaN</td>\n",
       "      <td>NaN</td>\n",
       "      <td>NaN</td>\n",
       "    </tr>\n",
       "    <tr>\n",
       "      <th>2</th>\n",
       "      <td>5520 S WESTERN</td>\n",
       "      <td>CHI069</td>\n",
       "      <td>07/08/2014</td>\n",
       "      <td>10</td>\n",
       "      <td>NaN</td>\n",
       "      <td>NaN</td>\n",
       "      <td>NaN</td>\n",
       "      <td>NaN</td>\n",
       "      <td>NaN</td>\n",
       "    </tr>\n",
       "    <tr>\n",
       "      <th>3</th>\n",
       "      <td>1111 N HUMBOLDT</td>\n",
       "      <td>CHI010</td>\n",
       "      <td>07/26/2014</td>\n",
       "      <td>101</td>\n",
       "      <td>NaN</td>\n",
       "      <td>NaN</td>\n",
       "      <td>NaN</td>\n",
       "      <td>NaN</td>\n",
       "      <td>NaN</td>\n",
       "    </tr>\n",
       "    <tr>\n",
       "      <th>4</th>\n",
       "      <td>1111 N HUMBOLDT</td>\n",
       "      <td>CHI010</td>\n",
       "      <td>07/27/2014</td>\n",
       "      <td>92</td>\n",
       "      <td>NaN</td>\n",
       "      <td>NaN</td>\n",
       "      <td>NaN</td>\n",
       "      <td>NaN</td>\n",
       "      <td>NaN</td>\n",
       "    </tr>\n",
       "  </tbody>\n",
       "</table>\n",
       "</div>"
      ],
      "text/plain": [
       "       cam_address  cam_id        date  num_violations  x_coord  y_coord  \\\n",
       "0   7738 S WESTERN  CHI065  07/08/2014              65      NaN      NaN   \n",
       "1  1111 N HUMBOLDT  CHI010  07/16/2014              56      NaN      NaN   \n",
       "2   5520 S WESTERN  CHI069  07/08/2014              10      NaN      NaN   \n",
       "3  1111 N HUMBOLDT  CHI010  07/26/2014             101      NaN      NaN   \n",
       "4  1111 N HUMBOLDT  CHI010  07/27/2014              92      NaN      NaN   \n",
       "\n",
       "   latitude  longitude location  \n",
       "0       NaN        NaN      NaN  \n",
       "1       NaN        NaN      NaN  \n",
       "2       NaN        NaN      NaN  \n",
       "3       NaN        NaN      NaN  \n",
       "4       NaN        NaN      NaN  "
      ]
     },
     "execution_count": 5,
     "metadata": {},
     "output_type": "execute_result"
    }
   ],
   "source": [
    "violations.head()"
   ]
  },
  {
   "cell_type": "markdown",
   "metadata": {},
   "source": [
    "# Exploring the data"
   ]
  },
  {
   "cell_type": "markdown",
   "metadata": {},
   "source": [
    "## Preliminary investigation"
   ]
  },
  {
   "cell_type": "code",
   "execution_count": 6,
   "metadata": {},
   "outputs": [
    {
     "name": "stdout",
     "output_type": "stream",
     "text": [
      "<class 'pandas.core.frame.DataFrame'>\n",
      "RangeIndex: 170521 entries, 0 to 170520\n",
      "Data columns (total 9 columns):\n",
      "cam_address       170521 non-null object\n",
      "cam_id            170521 non-null object\n",
      "date              170521 non-null object\n",
      "num_violations    170521 non-null int64\n",
      "x_coord           163959 non-null float64\n",
      "y_coord           163959 non-null float64\n",
      "latitude          163959 non-null float64\n",
      "longitude         163959 non-null float64\n",
      "location          163959 non-null object\n",
      "dtypes: float64(4), int64(1), object(4)\n",
      "memory usage: 11.7+ MB\n"
     ]
    }
   ],
   "source": [
    "violations.info()"
   ]
  },
  {
   "cell_type": "markdown",
   "metadata": {},
   "source": [
    "A significant amount of location data are missing. I may want to fill that in if I decide to plot the data on a map. I assume all of the missing data correspond to specific cameras. Just out of curiosity, let's see which cameras are missing data."
   ]
  },
  {
   "cell_type": "code",
   "execution_count": 7,
   "metadata": {},
   "outputs": [
    {
     "data": {
      "text/plain": [
       "array(['CHI065', 'CHI010', 'CHI069', 'CHI068', 'CHI064'], dtype=object)"
      ]
     },
     "execution_count": 7,
     "metadata": {},
     "output_type": "execute_result"
    }
   ],
   "source": [
    "violations[violations['location'].isna()]['cam_id'].unique()"
   ]
  },
  {
   "cell_type": "markdown",
   "metadata": {},
   "source": [
    "It looks like only 5 of the cameras are missing data, so if I do decide to fill the missing data it shouldn't be too difficult."
   ]
  },
  {
   "cell_type": "code",
   "execution_count": 8,
   "metadata": {},
   "outputs": [
    {
     "data": {
      "text/plain": [
       "count    170521.000000\n",
       "mean         28.880449\n",
       "std          36.636151\n",
       "min           1.000000\n",
       "25%           7.000000\n",
       "50%          16.000000\n",
       "75%          37.000000\n",
       "max         479.000000\n",
       "Name: num_violations, dtype: float64"
      ]
     },
     "execution_count": 8,
     "metadata": {},
     "output_type": "execute_result"
    }
   ],
   "source": [
    "violations['num_violations'].describe()"
   ]
  },
  {
   "cell_type": "code",
   "execution_count": 9,
   "metadata": {},
   "outputs": [
    {
     "data": {
      "text/plain": [
       "0    1\n",
       "dtype: int64"
      ]
     },
     "execution_count": 9,
     "metadata": {},
     "output_type": "execute_result"
    }
   ],
   "source": [
    "violations['num_violations'].mode()"
   ]
  },
  {
   "cell_type": "markdown",
   "metadata": {},
   "source": [
    "These decriptive statistics are not very instructive because a single day's worth of citations is spread out across multiple rows. One thing does stand out, though; 479 violations from a single camera in one day seems unbelievable. Let's see how common it is for there to be greater than 200 violations recorded by a single camera in a day."
   ]
  },
  {
   "cell_type": "code",
   "execution_count": 10,
   "metadata": {},
   "outputs": [
    {
     "data": {
      "text/plain": [
       "(1035, 9)"
      ]
     },
     "execution_count": 10,
     "metadata": {},
     "output_type": "execute_result"
    }
   ],
   "source": [
    "violations[violations['num_violations'] > 200].shape"
   ]
  },
  {
   "cell_type": "code",
   "execution_count": 11,
   "metadata": {
    "scrolled": true
   },
   "outputs": [
    {
     "data": {
      "text/plain": [
       "CHI149    671\n",
       "CHI045    171\n",
       "CHI003     38\n",
       "CHI029     34\n",
       "CHI021     34\n",
       "CHI120     25\n",
       "CHI119     22\n",
       "CHI031      9\n",
       "CHI044      8\n",
       "CHI079      5\n",
       "CHI028      5\n",
       "CHI058      4\n",
       "CHI108      4\n",
       "CHI095      2\n",
       "CHI174      1\n",
       "CHI184      1\n",
       "CHI147      1\n",
       "Name: cam_id, dtype: int64"
      ]
     },
     "execution_count": 11,
     "metadata": {},
     "output_type": "execute_result"
    }
   ],
   "source": [
    "violations[violations['num_violations']> 200]['cam_id'].value_counts()"
   ]
  },
  {
   "cell_type": "markdown",
   "metadata": {},
   "source": [
    "That's interesting. One camera seems to be issuing a larger number of violations than even the other cameras with high yields. We may want to explore this in greater depth later. I have some questions:\n",
    "1. Where in the city is this camera located? Is it a main thoroughfare?\n",
    "2. Do the high number of violations correspond to specific dates. (Ball games, holidays, etc.)\n",
    "3. Is this high yield typical for this camera?"
   ]
  },
  {
   "cell_type": "markdown",
   "metadata": {},
   "source": [
    "We've gotten a good preliminary glimpse at the data, so let's begin answering the questions posed at the beginning of the project. Before we do that, though, let's make the date column easier to work with."
   ]
  },
  {
   "cell_type": "code",
   "execution_count": 12,
   "metadata": {},
   "outputs": [
    {
     "data": {
      "text/html": [
       "<div>\n",
       "<style scoped>\n",
       "    .dataframe tbody tr th:only-of-type {\n",
       "        vertical-align: middle;\n",
       "    }\n",
       "\n",
       "    .dataframe tbody tr th {\n",
       "        vertical-align: top;\n",
       "    }\n",
       "\n",
       "    .dataframe thead th {\n",
       "        text-align: right;\n",
       "    }\n",
       "</style>\n",
       "<table border=\"1\" class=\"dataframe\">\n",
       "  <thead>\n",
       "    <tr style=\"text-align: right;\">\n",
       "      <th></th>\n",
       "      <th>cam_address</th>\n",
       "      <th>cam_id</th>\n",
       "      <th>date</th>\n",
       "      <th>num_violations</th>\n",
       "      <th>x_coord</th>\n",
       "      <th>y_coord</th>\n",
       "      <th>latitude</th>\n",
       "      <th>longitude</th>\n",
       "      <th>location</th>\n",
       "    </tr>\n",
       "  </thead>\n",
       "  <tbody>\n",
       "    <tr>\n",
       "      <th>0</th>\n",
       "      <td>7738 S WESTERN</td>\n",
       "      <td>CHI065</td>\n",
       "      <td>2014-07-08</td>\n",
       "      <td>65</td>\n",
       "      <td>NaN</td>\n",
       "      <td>NaN</td>\n",
       "      <td>NaN</td>\n",
       "      <td>NaN</td>\n",
       "      <td>NaN</td>\n",
       "    </tr>\n",
       "    <tr>\n",
       "      <th>1</th>\n",
       "      <td>1111 N HUMBOLDT</td>\n",
       "      <td>CHI010</td>\n",
       "      <td>2014-07-16</td>\n",
       "      <td>56</td>\n",
       "      <td>NaN</td>\n",
       "      <td>NaN</td>\n",
       "      <td>NaN</td>\n",
       "      <td>NaN</td>\n",
       "      <td>NaN</td>\n",
       "    </tr>\n",
       "    <tr>\n",
       "      <th>2</th>\n",
       "      <td>5520 S WESTERN</td>\n",
       "      <td>CHI069</td>\n",
       "      <td>2014-07-08</td>\n",
       "      <td>10</td>\n",
       "      <td>NaN</td>\n",
       "      <td>NaN</td>\n",
       "      <td>NaN</td>\n",
       "      <td>NaN</td>\n",
       "      <td>NaN</td>\n",
       "    </tr>\n",
       "    <tr>\n",
       "      <th>3</th>\n",
       "      <td>1111 N HUMBOLDT</td>\n",
       "      <td>CHI010</td>\n",
       "      <td>2014-07-26</td>\n",
       "      <td>101</td>\n",
       "      <td>NaN</td>\n",
       "      <td>NaN</td>\n",
       "      <td>NaN</td>\n",
       "      <td>NaN</td>\n",
       "      <td>NaN</td>\n",
       "    </tr>\n",
       "    <tr>\n",
       "      <th>4</th>\n",
       "      <td>1111 N HUMBOLDT</td>\n",
       "      <td>CHI010</td>\n",
       "      <td>2014-07-27</td>\n",
       "      <td>92</td>\n",
       "      <td>NaN</td>\n",
       "      <td>NaN</td>\n",
       "      <td>NaN</td>\n",
       "      <td>NaN</td>\n",
       "      <td>NaN</td>\n",
       "    </tr>\n",
       "  </tbody>\n",
       "</table>\n",
       "</div>"
      ],
      "text/plain": [
       "       cam_address  cam_id       date  num_violations  x_coord  y_coord  \\\n",
       "0   7738 S WESTERN  CHI065 2014-07-08              65      NaN      NaN   \n",
       "1  1111 N HUMBOLDT  CHI010 2014-07-16              56      NaN      NaN   \n",
       "2   5520 S WESTERN  CHI069 2014-07-08              10      NaN      NaN   \n",
       "3  1111 N HUMBOLDT  CHI010 2014-07-26             101      NaN      NaN   \n",
       "4  1111 N HUMBOLDT  CHI010 2014-07-27              92      NaN      NaN   \n",
       "\n",
       "   latitude  longitude location  \n",
       "0       NaN        NaN      NaN  \n",
       "1       NaN        NaN      NaN  \n",
       "2       NaN        NaN      NaN  \n",
       "3       NaN        NaN      NaN  \n",
       "4       NaN        NaN      NaN  "
      ]
     },
     "execution_count": 12,
     "metadata": {},
     "output_type": "execute_result"
    }
   ],
   "source": [
    "# Convert items in date column to datetime objects\n",
    "violations['date'] = pd.to_datetime(violations['date'], format='%m/%d/%Y')\n",
    "violations.head()"
   ]
  },
  {
   "cell_type": "markdown",
   "metadata": {},
   "source": [
    "# Average citations per camera, per day"
   ]
  },
  {
   "cell_type": "code",
   "execution_count": 13,
   "metadata": {
    "scrolled": true
   },
   "outputs": [
    {
     "data": {
      "text/plain": [
       "18.570265541452674"
      ]
     },
     "execution_count": 13,
     "metadata": {},
     "output_type": "execute_result"
    }
   ],
   "source": [
    "# Calculate total number of citations\n",
    "total_citations = violations['num_violations'].sum()\n",
    "\n",
    "# Calculate total number of days\n",
    "num_days = violations['date'].unique().shape[0]\n",
    "\n",
    "# Calculate the number of cameras\n",
    "num_cameras = violations['cam_id'].unique().shape[0]\n",
    "\n",
    "# Calculate average citations per camera, per day\n",
    "total_citations / (num_days*num_cameras)"
   ]
  },
  {
   "cell_type": "markdown",
   "metadata": {},
   "source": [
    "There we have it; there are approximately 19 citations per day, per camera. This doesn't tell the entire story, however, because it is certainly not the case that all of the cameras issued citations on exactly the same days. Let's get a little more granular for a better idea of the average number of citations issued per camera, per day."
   ]
  },
  {
   "cell_type": "code",
   "execution_count": 14,
   "metadata": {},
   "outputs": [],
   "source": [
    "# Average violations recorded by each individual camera per day\n",
    "cam_avg = violations.groupby('cam_id')['num_violations'].mean()"
   ]
  },
  {
   "cell_type": "code",
   "execution_count": 15,
   "metadata": {},
   "outputs": [
    {
     "data": {
      "text/plain": [
       "cam_id\n",
       "CHI003    116.335859\n",
       "CHI004     34.781192\n",
       "CHI005     12.046569\n",
       "CHI007     59.697837\n",
       "CHI008     19.142241\n",
       "Name: num_violations, dtype: float64"
      ]
     },
     "execution_count": 15,
     "metadata": {},
     "output_type": "execute_result"
    }
   ],
   "source": [
    "cam_avg.head()"
   ]
  },
  {
   "cell_type": "code",
   "execution_count": 16,
   "metadata": {},
   "outputs": [
    {
     "data": {
      "text/plain": [
       "25.835382801473404"
      ]
     },
     "execution_count": 16,
     "metadata": {},
     "output_type": "execute_result"
    }
   ],
   "source": [
    "# Average number of citations per camer, per day\n",
    "cam_avg.mean()"
   ]
  },
  {
   "cell_type": "markdown",
   "metadata": {},
   "source": [
    "This is a potentially more accurate estimate because each average constructed above is dividing the sum of each camera's citations by the number of days each camera issued citations. "
   ]
  },
  {
   "cell_type": "code",
   "execution_count": 17,
   "metadata": {},
   "outputs": [],
   "source": [
    "# Average number of violations issued on each day\n",
    "day_avg = violations.groupby('date')['num_violations'].mean()"
   ]
  },
  {
   "cell_type": "code",
   "execution_count": 18,
   "metadata": {},
   "outputs": [
    {
     "data": {
      "text/plain": [
       "date\n",
       "2014-07-01    52.168421\n",
       "2014-07-02    43.228261\n",
       "2014-07-03    51.617021\n",
       "2014-07-04    59.596774\n",
       "2014-07-05    55.380952\n",
       "Name: num_violations, dtype: float64"
      ]
     },
     "execution_count": 18,
     "metadata": {},
     "output_type": "execute_result"
    }
   ],
   "source": [
    "day_avg.head()"
   ]
  },
  {
   "cell_type": "code",
   "execution_count": 19,
   "metadata": {},
   "outputs": [
    {
     "data": {
      "text/plain": [
       "30.751780673738484"
      ]
     },
     "execution_count": 19,
     "metadata": {},
     "output_type": "execute_result"
    }
   ],
   "source": [
    "# Average number of violations issued per day\n",
    "day_avg.mean()"
   ]
  },
  {
   "cell_type": "code",
   "execution_count": 20,
   "metadata": {},
   "outputs": [
    {
     "data": {
      "text/plain": [
       "Text(0.5, 1.0, 'Average Number of Citations Per Day')"
      ]
     },
     "execution_count": 20,
     "metadata": {},
     "output_type": "execute_result"
    },
    {
     "data": {
      "image/png": "[encoded data removed]",
      "text/plain": [
       "<Figure size 576x360 with 1 Axes>"
      ]
     },
     "metadata": {
      "needs_background": "light"
     },
     "output_type": "display_data"
    }
   ],
   "source": [
    "import matplotlib.pyplot as plt\n",
    "%matplotlib inline\n",
    "\n",
    "plt.figure(figsize=(8,5))\n",
    "\n",
    "# Let's plot our data\n",
    "day_avg.plot(style='.')\n",
    "plt.ylabel('citations')\n",
    "plt.title('Average Number of Citations Per Day')"
   ]
  },
  {
   "cell_type": "markdown",
   "metadata": {},
   "source": [
    "There's an interesting trend here in the data. During the summer months, the number of citations issued spikes dramatically and then falls off in the fall and winter. We also see the magnitude of outliers diminish over time. Taken at face value, this graph appears to show that the cameras are making a difference in the number of violations committed."
   ]
  },
  {
   "cell_type": "code",
   "execution_count": 21,
   "metadata": {},
   "outputs": [
    {
     "data": {
      "image/png": "[encoded data removed]",
      "text/plain": [
       "<Figure size 864x576 with 2 Axes>"
      ]
     },
     "metadata": {
      "needs_background": "light"
     },
     "output_type": "display_data"
    }
   ],
   "source": [
    "half = len(cam_avg)//2\n",
    "\n",
    "x1 = np.arange(half)\n",
    "x2 = np.arange(half, len(cam_avg))\n",
    "y1 = cam_avg[:half].values\n",
    "y2 = cam_avg[half:].values\n",
    "\n",
    "fig, (ax1, ax2) = plt.subplots(nrows=2, figsize=(12, 8))\n",
    "\n",
    "ax1.bar(x1, y1)\n",
    "ax1.set_ylim(0, 210)\n",
    "ax1.set_ylabel('citations')\n",
    "ax1.set_xlabel('cam_id')\n",
    "ax1.set_xticks(x1)\n",
    "ax1.set_xticklabels(cam_avg[:half].index, rotation=90, fontsize='small')\n",
    "ax1.spines['right'].set_visible(False)\n",
    "ax1.spines['top'].set_visible(False)\n",
    "ax1.tick_params(top=False, bottom=False, left=False, right=False)\n",
    "ax1.margins(.01, .01)\n",
    "\n",
    "ax2.bar(x2, y2)\n",
    "ax2.set_ylim(0, 210)\n",
    "ax2.set_ylabel('citations')\n",
    "ax2.set_xlabel('cam_id')\n",
    "ax2.set_xticks(x2)\n",
    "ax2.set_xticklabels(cam_avg[half:].index, rotation=90, fontsize='small')\n",
    "ax2.spines['right'].set_visible(False)\n",
    "ax2.spines['top'].set_visible(False)\n",
    "ax2.tick_params(top=False, bottom=False, left=False, right=False)\n",
    "ax2.margins(.01, .01)\n",
    "\n",
    "plt.suptitle('Average Number of Citations Per Camera')\n",
    "plt.tight_layout()\n",
    "plt.show()"
   ]
  },
  {
   "cell_type": "code",
   "execution_count": 22,
   "metadata": {},
   "outputs": [
    {
     "data": {
      "image/png": "[encoded data removed]",
      "text/plain": [
       "<Figure size 576x360 with 1 Axes>"
      ]
     },
     "metadata": {
      "needs_background": "light"
     },
     "output_type": "display_data"
    }
   ],
   "source": [
    "fig, ax = plt.subplots(figsize=(8,5))\n",
    "\n",
    "ax.boxplot(cam_avg, vert=False)\n",
    "ax.set_xlabel('Citations per Day')\n",
    "ax.set_ylabel('All Cameras')\n",
    "ax.set_title('Citations per Day for All Chicage Traffic Cameras')\n",
    "plt.show()"
   ]
  },
  {
   "cell_type": "markdown",
   "metadata": {},
   "source": [
    "One interesting thing to note is that a few cameras are averaging over 75 citations per day, with the greatest outlier averaging nearly 200 citations per day. Indeed, the majority of cameras average less than 50 citations per day. Where are these high-yield cameras located, and why are they issuing so many citations? "
   ]
  },
  {
   "cell_type": "markdown",
   "metadata": {},
   "source": [
    "# Citations by day of the week"
   ]
  },
  {
   "cell_type": "code",
   "execution_count": 23,
   "metadata": {},
   "outputs": [],
   "source": [
    "import datetime\n",
    "\n",
    "# Let's make a function that extracts the weekday from a datetime object\n",
    "def datetime_to_weekday(date_col):\n",
    "    '''Creates a new column by extracting the weekday from a column of datetime object\n",
    "    \n",
    "    Returns a one-dimensionall ndarray (a column)\n",
    "    \n",
    "    Usage\n",
    "    ------\n",
    "    \n",
    "    df['weekday'] = datetime_to_weekday(df['date'])\n",
    "    '''\n",
    "    \n",
    "    # Create a mapping dictionary to convert integers to corresponding weekday    \n",
    "    mapping_dict = {\n",
    "        0: 'Monday',\n",
    "        1: 'Tuesday',\n",
    "        2: 'Wednesday',\n",
    "        3: 'Thursday',\n",
    "        4: 'Friday',\n",
    "        5: 'Saturday',\n",
    "        6: 'Sunday'\n",
    "    }\n",
    "\n",
    "    # Extract integer value corresponding to day of week from datetime column\n",
    "    new_col = date_col.apply(lambda x: x.weekday())\n",
    "    \n",
    "    # Substitute integers with corresponding weekdays\n",
    "    new_col = new_col.map(mapping_dict)\n",
    "    \n",
    "    return new_col\n"
   ]
  },
  {
   "cell_type": "code",
   "execution_count": 24,
   "metadata": {},
   "outputs": [
    {
     "data": {
      "text/html": [
       "<div>\n",
       "<style scoped>\n",
       "    .dataframe tbody tr th:only-of-type {\n",
       "        vertical-align: middle;\n",
       "    }\n",
       "\n",
       "    .dataframe tbody tr th {\n",
       "        vertical-align: top;\n",
       "    }\n",
       "\n",
       "    .dataframe thead th {\n",
       "        text-align: right;\n",
       "    }\n",
       "</style>\n",
       "<table border=\"1\" class=\"dataframe\">\n",
       "  <thead>\n",
       "    <tr style=\"text-align: right;\">\n",
       "      <th></th>\n",
       "      <th>date</th>\n",
       "      <th>weekday</th>\n",
       "    </tr>\n",
       "  </thead>\n",
       "  <tbody>\n",
       "    <tr>\n",
       "      <th>0</th>\n",
       "      <td>2014-07-08</td>\n",
       "      <td>Tuesday</td>\n",
       "    </tr>\n",
       "    <tr>\n",
       "      <th>1</th>\n",
       "      <td>2014-07-16</td>\n",
       "      <td>Wednesday</td>\n",
       "    </tr>\n",
       "    <tr>\n",
       "      <th>2</th>\n",
       "      <td>2014-07-08</td>\n",
       "      <td>Tuesday</td>\n",
       "    </tr>\n",
       "    <tr>\n",
       "      <th>3</th>\n",
       "      <td>2014-07-26</td>\n",
       "      <td>Saturday</td>\n",
       "    </tr>\n",
       "    <tr>\n",
       "      <th>4</th>\n",
       "      <td>2014-07-27</td>\n",
       "      <td>Sunday</td>\n",
       "    </tr>\n",
       "  </tbody>\n",
       "</table>\n",
       "</div>"
      ],
      "text/plain": [
       "        date    weekday\n",
       "0 2014-07-08    Tuesday\n",
       "1 2014-07-16  Wednesday\n",
       "2 2014-07-08    Tuesday\n",
       "3 2014-07-26   Saturday\n",
       "4 2014-07-27     Sunday"
      ]
     },
     "execution_count": 24,
     "metadata": {},
     "output_type": "execute_result"
    }
   ],
   "source": [
    "# Create new 'weekday' column\n",
    "violations['weekday'] = datetime_to_weekday(violations['date'])\n",
    "\n",
    "violations[['date','weekday']].head()"
   ]
  },
  {
   "cell_type": "code",
   "execution_count": 25,
   "metadata": {},
   "outputs": [
    {
     "data": {
      "image/png": "[encoded data removed]",
      "text/plain": [
       "<Figure size 576x360 with 1 Axes>"
      ]
     },
     "metadata": {
      "needs_background": "light"
     },
     "output_type": "display_data"
    },
    {
     "name": "stdout",
     "output_type": "stream",
     "text": [
      "weekday\n",
      "Saturday     39.792720\n",
      "Sunday       39.067801\n",
      "Friday       28.288643\n",
      "Thursday     26.609958\n",
      "Monday       25.745070\n",
      "Wednesday    25.599419\n",
      "Tuesday      25.103707\n",
      "Name: num_violations, dtype: float64\n"
     ]
    }
   ],
   "source": [
    "# Calculate average violations per weekday\n",
    "weekday_avg = violations.groupby('weekday')['num_violations'].mean()\n",
    "\n",
    "plt.figure(figsize=(8,5))\n",
    "weekday_avg.plot(kind='bar')\n",
    "plt.title('Average Citations per Weekday')\n",
    "plt.ylabel('citations')\n",
    "plt.tick_params(top=False, bottom=False, left=False, right=False)\n",
    "plt.show()\n",
    "print(weekday_avg.sort_values(ascending=False))"
   ]
  },
  {
   "cell_type": "markdown",
   "metadata": {},
   "source": [
    "Saturday and Sunday yield the highest average citations. This makes sense on an intuitive level, since weekends are likely to see increased traffic through all hours of the day, whereas business days likely have less traffic during business hours."
   ]
  },
  {
   "cell_type": "markdown",
   "metadata": {},
   "source": [
    "# Number of cameras by year"
   ]
  },
  {
   "cell_type": "code",
   "execution_count": 26,
   "metadata": {},
   "outputs": [
    {
     "data": {
      "text/html": [
       "<div>\n",
       "<style scoped>\n",
       "    .dataframe tbody tr th:only-of-type {\n",
       "        vertical-align: middle;\n",
       "    }\n",
       "\n",
       "    .dataframe tbody tr th {\n",
       "        vertical-align: top;\n",
       "    }\n",
       "\n",
       "    .dataframe thead th {\n",
       "        text-align: right;\n",
       "    }\n",
       "</style>\n",
       "<table border=\"1\" class=\"dataframe\">\n",
       "  <thead>\n",
       "    <tr style=\"text-align: right;\">\n",
       "      <th></th>\n",
       "      <th>date</th>\n",
       "      <th>year</th>\n",
       "    </tr>\n",
       "  </thead>\n",
       "  <tbody>\n",
       "    <tr>\n",
       "      <th>0</th>\n",
       "      <td>2014-07-08</td>\n",
       "      <td>2014</td>\n",
       "    </tr>\n",
       "    <tr>\n",
       "      <th>1</th>\n",
       "      <td>2014-07-16</td>\n",
       "      <td>2014</td>\n",
       "    </tr>\n",
       "    <tr>\n",
       "      <th>2</th>\n",
       "      <td>2014-07-08</td>\n",
       "      <td>2014</td>\n",
       "    </tr>\n",
       "    <tr>\n",
       "      <th>3</th>\n",
       "      <td>2014-07-26</td>\n",
       "      <td>2014</td>\n",
       "    </tr>\n",
       "    <tr>\n",
       "      <th>4</th>\n",
       "      <td>2014-07-27</td>\n",
       "      <td>2014</td>\n",
       "    </tr>\n",
       "  </tbody>\n",
       "</table>\n",
       "</div>"
      ],
      "text/plain": [
       "        date  year\n",
       "0 2014-07-08  2014\n",
       "1 2014-07-16  2014\n",
       "2 2014-07-08  2014\n",
       "3 2014-07-26  2014\n",
       "4 2014-07-27  2014"
      ]
     },
     "execution_count": 26,
     "metadata": {},
     "output_type": "execute_result"
    }
   ],
   "source": [
    "# Create a year column to make our exploration simpler\n",
    "violations['year'] = violations['date'].apply(lambda x: x.year)\n",
    "\n",
    "violations[['date','year']].head()"
   ]
  },
  {
   "cell_type": "code",
   "execution_count": 27,
   "metadata": {},
   "outputs": [
    {
     "data": {
      "image/png": "[encoded data removed]",
      "text/plain": [
       "<Figure size 432x288 with 1 Axes>"
      ]
     },
     "metadata": {
      "needs_background": "light"
     },
     "output_type": "display_data"
    },
    {
     "name": "stdout",
     "output_type": "stream",
     "text": [
      "{2014: 143, 2015: 150, 2016: 150, 2017: 150, 2018: 162}\n"
     ]
    }
   ],
   "source": [
    "cameras_by_year = {\n",
    "    2014: 0,\n",
    "    2015: 0,\n",
    "    2016: 0,\n",
    "    2017: 0,\n",
    "    2018: 0\n",
    "}\n",
    "\n",
    "for year in violations['year'].unique():\n",
    "    cameras_by_year[year] = violations[violations['year'] == year]['cam_id'].unique().shape[0]\n",
    "    \n",
    "\n",
    "fig, ax = plt.subplots()\n",
    "ax.bar(cameras_by_year.keys(), cameras_by_year.values())\n",
    "for spine in ax.spines:\n",
    "    ax.spines[spine].set_visible(False)\n",
    "ax.tick_params(top=False, bottom=False, left=False, right=False)\n",
    "plt.title('Number of Cameras by Year')\n",
    "plt.xlabel('Year')\n",
    "plt.ylabel('Cameras')\n",
    "plt.show()\n",
    "\n",
    "print(cameras_by_year)"
   ]
  },
  {
   "cell_type": "markdown",
   "metadata": {},
   "source": [
    "The city has indeed added cameras over the years, but very slowly. Three years saw no change at all in the number of cameras. I'm curious to see which cameras have been added. Also, this graph may not tell the entire story. It's possible the numbers in 2015-2017 aren't as stagnant as they appear; the city could have deactivated some older cameras and activated new cameras, for example. Let's have a look."
   ]
  },
  {
   "cell_type": "code",
   "execution_count": 28,
   "metadata": {},
   "outputs": [
    {
     "name": "stdout",
     "output_type": "stream",
     "text": [
      "Changes in 2015: \n",
      "{'CHI159', 'CHI157', 'CHI164', 'CHI161', 'CHI167', 'CHI144', 'CHI166'}\n",
      "\n",
      "Changes in 2016: \n",
      "set()\n",
      "\n",
      "Changes in 2017: \n",
      "set()\n",
      "\n",
      "Changes in 2018: \n",
      "{'CHI180', 'CHI181', 'CHI183', 'CHI179', 'CHI175', 'CHI178', 'CHI182', 'CHI177', 'CHI173', 'CHI184', 'CHI174', 'CHI176'}\n",
      "\n"
     ]
    }
   ],
   "source": [
    "# Construct sets containing cameras active each year\n",
    "cameras_2014 = set(violations[violations['year'] == 2014]['cam_id'].unique())\n",
    "cameras_2015 = set(violations[violations['year'] == 2015]['cam_id'].unique())\n",
    "cameras_2016 = set(violations[violations['year'] == 2016]['cam_id'].unique())\n",
    "cameras_2017 = set(violations[violations['year'] == 2017]['cam_id'].unique())\n",
    "cameras_2018 = set(violations[violations['year'] == 2018]['cam_id'].unique())\n",
    "\n",
    "# Print differences\n",
    "print('Changes in 2015: \\n{}\\n'.format(cameras_2015.difference(cameras_2014)))\n",
    "print('Changes in 2016: \\n{}\\n'.format(cameras_2016.difference(cameras_2015)))\n",
    "print('Changes in 2017: \\n{}\\n'.format(cameras_2017.difference(cameras_2016)))\n",
    "print('Changes in 2018: \\n{}\\n'.format(cameras_2018.difference(cameras_2017)))"
   ]
  },
  {
   "cell_type": "markdown",
   "metadata": {},
   "source": [
    "Based on our exploration, we can definitively state that there has been an increase in the number of cameras over the period we've explored. To be exact, 19 cameras have been added since 2014.\n",
    "\n",
    "It might be worth investigating whether those additions were worth the expense by seeing how many citations have been issued by the new cameras. Also worth investigating is whether the new cameras were placed in existing Children Safety Zones or if the city established new Children Safety Zones prior to the activation of the new cameras."
   ]
  },
  {
   "cell_type": "markdown",
   "metadata": {},
   "source": [
    "# Mapping the data"
   ]
  },
  {
   "cell_type": "code",
   "execution_count": 29,
   "metadata": {},
   "outputs": [
    {
     "name": "stdout",
     "output_type": "stream",
     "text": [
      "7738 S WESTERN\n",
      "1111 N HUMBOLDT\n",
      "5520 S WESTERN\n",
      "5529 S WESTERN\n",
      "7739 S WESTERN\n"
     ]
    }
   ],
   "source": [
    "# Let's fill in the missing location data\n",
    "# Identify cameras with missing location data\n",
    "missing_cam_loc = violations[violations['location'].isna()]['cam_id'].unique()\n",
    "\n",
    "# Print the address for each camera with missing location data\n",
    "for cam in missing_cam_loc:\n",
    "    print(violations[violations['cam_id']==cam]['cam_address'].iloc[0])"
   ]
  },
  {
   "cell_type": "markdown",
   "metadata": {},
   "source": [
    "I've found the latitude and longitude information for each address using google.\n",
    "\n",
    "| Address | Latitude | Longitude |\n",
    "|---------|----------|-----------|\n",
    "| 7738 S Western | 41.7526093 | -87.6853633 |\n",
    "| 1111 N Humboldt | 41.9028281 |-87.7044808 |\n",
    "| 5520 S Western | 41.791966 | -87.6862365 |\n",
    "| 5529 S Western | 41.7572161 | -87.6851846 |\n",
    "| 7739 S Western | 41.752613 | -87.6846589 |"
   ]
  },
  {
   "cell_type": "code",
   "execution_count": 30,
   "metadata": {},
   "outputs": [],
   "source": [
    "locations = {\n",
    "    missing_cam_loc[0]: [41.7526093, -87.6853633],\n",
    "    missing_cam_loc[1]: [41.9028281, -87.7044808],\n",
    "    missing_cam_loc[2]: [41.791966, -87.6862365],\n",
    "    missing_cam_loc[3]: [41.7572161, -87.6851846],\n",
    "    missing_cam_loc[4]: [41.752613, -87.6846589]\n",
    "}\n",
    "\n",
    "# Replace nan values in latitude and longitude columns with values extracted from google maps\n",
    "for cam, loc in locations.items():\n",
    "    violations.loc[violations['cam_id'] == cam, 'latitude'] = loc[0]\n",
    "    violations.loc[violations['cam_id'] == cam, 'longitude'] = loc[1]"
   ]
  },
  {
   "cell_type": "code",
   "execution_count": 31,
   "metadata": {},
   "outputs": [
    {
     "data": {
      "text/html": [
       "<div>\n",
       "<style scoped>\n",
       "    .dataframe tbody tr th:only-of-type {\n",
       "        vertical-align: middle;\n",
       "    }\n",
       "\n",
       "    .dataframe tbody tr th {\n",
       "        vertical-align: top;\n",
       "    }\n",
       "\n",
       "    .dataframe thead th {\n",
       "        text-align: right;\n",
       "    }\n",
       "</style>\n",
       "<table border=\"1\" class=\"dataframe\">\n",
       "  <thead>\n",
       "    <tr style=\"text-align: right;\">\n",
       "      <th></th>\n",
       "      <th>cam_address</th>\n",
       "      <th>cam_id</th>\n",
       "      <th>date</th>\n",
       "      <th>num_violations</th>\n",
       "      <th>x_coord</th>\n",
       "      <th>y_coord</th>\n",
       "      <th>latitude</th>\n",
       "      <th>longitude</th>\n",
       "      <th>location</th>\n",
       "      <th>weekday</th>\n",
       "      <th>year</th>\n",
       "    </tr>\n",
       "  </thead>\n",
       "  <tbody>\n",
       "    <tr>\n",
       "      <th>0</th>\n",
       "      <td>7738 S WESTERN</td>\n",
       "      <td>CHI065</td>\n",
       "      <td>2014-07-08</td>\n",
       "      <td>65</td>\n",
       "      <td>NaN</td>\n",
       "      <td>NaN</td>\n",
       "      <td>41.752609</td>\n",
       "      <td>-87.685363</td>\n",
       "      <td>NaN</td>\n",
       "      <td>Tuesday</td>\n",
       "      <td>2014</td>\n",
       "    </tr>\n",
       "    <tr>\n",
       "      <th>1</th>\n",
       "      <td>1111 N HUMBOLDT</td>\n",
       "      <td>CHI010</td>\n",
       "      <td>2014-07-16</td>\n",
       "      <td>56</td>\n",
       "      <td>NaN</td>\n",
       "      <td>NaN</td>\n",
       "      <td>41.902828</td>\n",
       "      <td>-87.704481</td>\n",
       "      <td>NaN</td>\n",
       "      <td>Wednesday</td>\n",
       "      <td>2014</td>\n",
       "    </tr>\n",
       "    <tr>\n",
       "      <th>2</th>\n",
       "      <td>5520 S WESTERN</td>\n",
       "      <td>CHI069</td>\n",
       "      <td>2014-07-08</td>\n",
       "      <td>10</td>\n",
       "      <td>NaN</td>\n",
       "      <td>NaN</td>\n",
       "      <td>41.791966</td>\n",
       "      <td>-87.686237</td>\n",
       "      <td>NaN</td>\n",
       "      <td>Tuesday</td>\n",
       "      <td>2014</td>\n",
       "    </tr>\n",
       "    <tr>\n",
       "      <th>3</th>\n",
       "      <td>1111 N HUMBOLDT</td>\n",
       "      <td>CHI010</td>\n",
       "      <td>2014-07-26</td>\n",
       "      <td>101</td>\n",
       "      <td>NaN</td>\n",
       "      <td>NaN</td>\n",
       "      <td>41.902828</td>\n",
       "      <td>-87.704481</td>\n",
       "      <td>NaN</td>\n",
       "      <td>Saturday</td>\n",
       "      <td>2014</td>\n",
       "    </tr>\n",
       "    <tr>\n",
       "      <th>4</th>\n",
       "      <td>1111 N HUMBOLDT</td>\n",
       "      <td>CHI010</td>\n",
       "      <td>2014-07-27</td>\n",
       "      <td>92</td>\n",
       "      <td>NaN</td>\n",
       "      <td>NaN</td>\n",
       "      <td>41.902828</td>\n",
       "      <td>-87.704481</td>\n",
       "      <td>NaN</td>\n",
       "      <td>Sunday</td>\n",
       "      <td>2014</td>\n",
       "    </tr>\n",
       "  </tbody>\n",
       "</table>\n",
       "</div>"
      ],
      "text/plain": [
       "       cam_address  cam_id       date  num_violations  x_coord  y_coord  \\\n",
       "0   7738 S WESTERN  CHI065 2014-07-08              65      NaN      NaN   \n",
       "1  1111 N HUMBOLDT  CHI010 2014-07-16              56      NaN      NaN   \n",
       "2   5520 S WESTERN  CHI069 2014-07-08              10      NaN      NaN   \n",
       "3  1111 N HUMBOLDT  CHI010 2014-07-26             101      NaN      NaN   \n",
       "4  1111 N HUMBOLDT  CHI010 2014-07-27              92      NaN      NaN   \n",
       "\n",
       "    latitude  longitude location    weekday  year  \n",
       "0  41.752609 -87.685363      NaN    Tuesday  2014  \n",
       "1  41.902828 -87.704481      NaN  Wednesday  2014  \n",
       "2  41.791966 -87.686237      NaN    Tuesday  2014  \n",
       "3  41.902828 -87.704481      NaN   Saturday  2014  \n",
       "4  41.902828 -87.704481      NaN     Sunday  2014  "
      ]
     },
     "execution_count": 31,
     "metadata": {},
     "output_type": "execute_result"
    }
   ],
   "source": [
    "violations.head()"
   ]
  },
  {
   "cell_type": "code",
   "execution_count": 32,
   "metadata": {},
   "outputs": [
    {
     "name": "stdout",
     "output_type": "stream",
     "text": [
      "CHI065:\n",
      "['7738 S WESTERN']\n",
      "\n",
      "CHI010:\n",
      "['1111 N HUMBOLDT']\n",
      "\n",
      "CHI069:\n",
      "['5520 S WESTERN']\n",
      "\n",
      "CHI068:\n",
      "['5529 S WESTERN']\n",
      "\n",
      "CHI064:\n",
      "['7739 S WESTERN']\n",
      "\n",
      "CHI020:\n",
      "['2912 W ROOSEVELT']\n",
      "\n",
      "CHI136:\n",
      "['346 W 76th ST']\n",
      "\n",
      "CHI022:\n",
      "['11153 S VINCENNES']\n",
      "\n",
      "CHI050:\n",
      "['5454 W IRVING PARK']\n",
      "\n",
      "CHI042:\n",
      "['5446 W FULLERTON']\n",
      "\n",
      "CHI105:\n",
      "['6443 W BELMONT AVE']\n",
      "\n",
      "CHI080:\n",
      "['2712 W IRVING PARK']\n",
      "\n",
      "CHI049:\n",
      "['4123 N CENTRAL AVE']\n",
      "\n",
      "CHI023:\n",
      "['11144 S VINCENNES']\n",
      "\n",
      "CHI056:\n",
      "['4432 N LINCOLN']\n",
      "\n",
      "CHI089:\n",
      "['3810 W BELMONT AVE']\n",
      "\n",
      "CHI140:\n",
      "['3535 E 95TH ST']\n",
      "\n",
      "CHI036:\n",
      "['62 E 95TH']\n",
      "\n",
      "CHI116:\n",
      "['4674 W PETERSON AVE']\n",
      "\n",
      "CHI141:\n",
      "['3542 E 95TH ST']\n",
      "\n",
      "CHI115:\n",
      "['4707 W PETERSON AVE']\n",
      "\n",
      "CHI124:\n",
      "['449 N COLUMBUS DR']\n",
      "\n",
      "CHI139:\n",
      "['14 W CHICAGO AVE']\n",
      "\n",
      "CHI092:\n",
      "['2432 N ASHLAND']\n",
      "\n",
      "CHI142:\n",
      "['9618 S EWING AVE']\n",
      "\n",
      "CHI125:\n",
      "['450 N COLUMBUS DR']\n",
      "\n",
      "CHI058:\n",
      "['5816 W JACKSON']\n",
      "\n",
      "CHI117:\n",
      "['2928 S HALSTED']\n",
      "\n",
      "CHI128:\n",
      "['1226 N WESTERN AVE']\n",
      "\n",
      "CHI108:\n",
      "['4040 W CHICAGO AVE']\n",
      "\n",
      "CHI034:\n",
      "['630 S STATE']\n",
      "\n",
      "CHI070:\n",
      "['2513 W 55TH']\n",
      "\n",
      "CHI087:\n",
      "['3230 N MILWAUKEE AVE']\n",
      "\n",
      "CHI043:\n",
      "['5440 W GRAND']\n",
      "\n",
      "CHI078:\n",
      "['2721 W MONTROSE']\n",
      "\n",
      "CHI021:\n",
      "['2900 W OGDEN']\n",
      "\n",
      "CHI032:\n",
      "['4965 S ARCHER']\n",
      "\n",
      "CHI126:\n",
      "['319 E ILLINOIS ST' '324 E ILLINOIS ST']\n",
      "\n",
      "CHI025:\n",
      "['3034 W FOSTER']\n",
      "\n",
      "CHI104:\n",
      "['3115 N NARRAGANSETT AVE']\n",
      "\n",
      "CHI137:\n",
      "['341 W 76th ST']\n",
      "\n",
      "CHI130:\n",
      "['506 S CENTRAL AVE']\n",
      "\n",
      "CHI077:\n",
      "['115 N OGDEN']\n",
      "\n",
      "CHI101:\n",
      "['7422 S JEFFERY']\n",
      "\n",
      "CHI109:\n",
      "['732 N PULASKI RD']\n",
      "\n",
      "CHI057:\n",
      "['515 S CENTRAL AVE']\n",
      "\n",
      "CHI028:\n",
      "['2549 W ADDISON']\n",
      "\n",
      "CHI123:\n",
      "['324 S KEDZIE AVE']\n",
      "\n",
      "CHI027:\n",
      "['3534 N WESTERN']\n",
      "\n",
      "CHI075:\n",
      "['141 N ASHLAND']\n",
      "\n",
      "CHI074:\n",
      "['3832 W 79TH']\n",
      "\n",
      "CHI039:\n",
      "['6247 W FULLERTON']\n",
      "\n",
      "CHI114:\n",
      "['6125 N CICERO AVE']\n",
      "\n",
      "CHI045:\n",
      "['445 W 127TH']\n",
      "\n",
      "CHI118:\n",
      "['5420 S RACINE AVE']\n",
      "\n",
      "CHI088:\n",
      "['3809 W BELMONT AVE']\n",
      "\n",
      "CHI063:\n",
      "['7518 S VINCENNES']\n",
      "\n",
      "CHI015:\n",
      "['3450 W 71ST']\n",
      "\n",
      "CHI095:\n",
      "['1142 W IRVING PARK']\n",
      "\n",
      "CHI129:\n",
      "['2329 W DIVISION ST']\n",
      "\n",
      "CHI149:\n",
      "['4909 N CICERO AVE']\n",
      "\n",
      "CHI018:\n",
      "['6818 S KEDZIE']\n",
      "\n",
      "CHI107:\n",
      "['4041 W CHICAGO AVE']\n",
      "\n",
      "CHI024:\n",
      "['3137 W PETERSON']\n",
      "\n",
      "CHI090:\n",
      "['2448 N CLYBOURN AVE']\n",
      "\n",
      "CHI086:\n",
      "['4620 W BELMONT AVE']\n",
      "\n",
      "CHI060:\n",
      "['5428 S PULASKI']\n",
      "\n",
      "CHI112:\n",
      "['1635 N ASHLAND AVE']\n",
      "\n",
      "CHI051:\n",
      "['6523 N WESTERN']\n",
      "\n",
      "CHI061:\n",
      "['4045 W 55TH']\n",
      "\n",
      "CHI062:\n",
      "['4040 W 55TH']\n",
      "\n",
      "CHI100:\n",
      "['5025 S WESTERN AVE']\n",
      "\n",
      "CHI132:\n",
      "['3116 N NARRAGANSETT AVE']\n",
      "\n",
      "CHI103:\n",
      "['5432 W LAWRENCE']\n",
      "\n",
      "CHI106:\n",
      "['6514 W BELMONT AVE']\n",
      "\n",
      "CHI143:\n",
      "['1440 W CERMAK RD']\n",
      "\n",
      "CHI071:\n",
      "['7833 S PULASKI']\n",
      "\n",
      "CHI083:\n",
      "['6226 W IRVING PARK RD']\n",
      "\n",
      "CHI067:\n",
      "['2550 W 79TH']\n",
      "\n",
      "CHI098:\n",
      "['2445 W 51ST ST']\n",
      "\n",
      "CHI076:\n",
      "['140 N ASHLAND']\n",
      "\n",
      "CHI003:\n",
      "['4124 W FOSTER AVE']\n",
      "\n",
      "CHI072:\n",
      "['7826 S PULASKI']\n",
      "\n",
      "CHI154:\n",
      "['2416 W 103RD ST']\n",
      "\n",
      "CHI122:\n",
      "['3047 W JACKSON BLVD']\n",
      "\n",
      "CHI029:\n",
      "['536 E MORGAN DR']\n",
      "\n",
      "CHI059:\n",
      "['5433 S PULASKI']\n",
      "\n",
      "CHI102:\n",
      "['5471 W HIGGINS']\n",
      "\n",
      "CHI004:\n",
      "['5120 N PULASKI']\n",
      "\n",
      "CHI127:\n",
      "['1229 N WESTERN AVE']\n",
      "\n",
      "CHI033:\n",
      "['629 S STATE']\n",
      "\n",
      "CHI031:\n",
      "['5030 S PULASKI']\n",
      "\n",
      "CHI040:\n",
      "['6250 W FULLERTON']\n",
      "\n",
      "CHI019:\n",
      "['2917 W ROOSEVELT']\n",
      "\n",
      "CHI135:\n",
      "['2108 S WESTERN AVE']\n",
      "\n",
      "CHI035:\n",
      "['57 E 95TH']\n",
      "\n",
      "CHI079:\n",
      "['2705 W IRVING PARK']\n",
      "\n",
      "CHI005:\n",
      "['2080 W PERSHING']\n",
      "\n",
      "CHI110:\n",
      "['2335 W CERMAK RD']\n",
      "\n",
      "CHI048:\n",
      "['3843 W 111TH']\n",
      "\n",
      "CHI091:\n",
      "['2443 N ASHLAND']\n",
      "\n",
      "CHI119:\n",
      "['1334 W GARFIELD BLVD']\n",
      "\n",
      "CHI094:\n",
      "['4436 N WESTERN']\n",
      "\n",
      "CHI041:\n",
      "['5509 W FULLERTON']\n",
      "\n",
      "CHI013:\n",
      "['5330 S COTTAGE GROVE']\n",
      "\n",
      "CHI113:\n",
      "['1638 N ASHLAND AVE']\n",
      "\n",
      "CHI066:\n",
      "['2603 W 79TH']\n",
      "\n",
      "CHI111:\n",
      "['2326 W CERMAK RD']\n",
      "\n",
      "CHI014:\n",
      "['6909 S KEDZIE']\n",
      "\n",
      "CHI055:\n",
      "['4433 N WESTERN']\n",
      "\n",
      "CHI008:\n",
      "['3655 W JACKSON']\n",
      "\n",
      "CHI011:\n",
      "['3100 W AUGUSTA']\n",
      "\n",
      "CHI121:\n",
      "['1315 W GARFIELD BLVD']\n",
      "\n",
      "CHI097:\n",
      "['4446 N BROADWAY']\n",
      "\n",
      "CHI096:\n",
      "['4429 N BROADWAY']\n",
      "\n",
      "CHI099:\n",
      "['2440 W 51ST ST']\n",
      "\n",
      "CHI093:\n",
      "['5885 N RIDGE AVE']\n",
      "\n",
      "CHI131:\n",
      "['18 W SUPERIOR ST']\n",
      "\n",
      "CHI168:\n",
      "['8345 S ASHLAND AVE']\n",
      "\n",
      "CHI169:\n",
      "['8318 S ASHLAND AVE']\n",
      "\n",
      "CHI120:\n",
      "['10318 S INDIANAPOLIS']\n",
      "\n",
      "CHI007:\n",
      "['3843 S WESTERN']\n",
      "\n",
      "CHI165:\n",
      "['2417 W 103RD ST']\n",
      "\n",
      "CHI159:\n",
      "['4053 W NORTH AVE']\n",
      "\n",
      "CHI170:\n",
      "['1507 W 83rd ST']\n",
      "\n",
      "CHI158:\n",
      "['6510 W BRYN MAWR AVE']\n",
      "\n",
      "CHI162:\n",
      "['1117 S PULASKI RD']\n",
      "\n",
      "CHI144:\n",
      "['3200 S ARCHER AVE']\n",
      "\n",
      "CHI157:\n",
      "['1754 N PULASKI RD']\n",
      "\n",
      "CHI163:\n",
      "['1110 S PULASKI RD']\n",
      "\n",
      "CHI138:\n",
      "['1901 E 75TH ST']\n",
      "\n",
      "CHI161:\n",
      "['4042 W NORTH AVE']\n",
      "\n",
      "CHI009:\n",
      "['3646 W MADISON']\n",
      "\n",
      "CHI147:\n",
      "['4831 W LAWRENCE AVE']\n",
      "\n",
      "CHI156:\n",
      "['5739 N NORTHWEST HWY']\n",
      "\n",
      "CHI160:\n",
      "['4042 W ROOSEVELT RD']\n",
      "\n",
      "CHI146:\n",
      "['215 E 63RD ST']\n",
      "\n",
      "CHI145:\n",
      "['2109 E 87TH ST']\n",
      "\n",
      "CHI166:\n",
      "['3217 W 55TH ST']\n",
      "\n",
      "CHI134:\n",
      "['2115 S WESTERN AVE']\n",
      "\n",
      "CHI133:\n",
      "['19 W CHICAGO AVE']\n",
      "\n",
      "CHI148:\n",
      "['6330 S MARTIN LUTHER KING']\n",
      "\n",
      "CHI172:\n",
      "['3130 N ASHLAND AVE']\n",
      "\n",
      "CHI030:\n",
      "['4929 S PULASKI']\n",
      "\n",
      "CHI073:\n",
      "['3851 W 79th']\n",
      "\n",
      "CHI167:\n",
      "['3212 W 55TH ST']\n",
      "\n",
      "CHI164:\n",
      "['5532 S KEDZIE AVE']\n",
      "\n",
      "CHI044:\n",
      "['4843 W FULLERTON']\n",
      "\n",
      "CHI171:\n",
      "['3111 N ASHLAND AVE']\n",
      "\n",
      "CHI026:\n",
      "['3521 N WESTERN']\n",
      "\n",
      "CHI176:\n",
      "['8006 W ADDISON ST']\n",
      "\n",
      "CHI177:\n",
      "['3911 W DIVERSEY AVE']\n",
      "\n",
      "CHI175:\n",
      "['8043 W ADDISON ST']\n",
      "\n",
      "CHI173:\n",
      "['5006 S WESTERN BLVD']\n",
      "\n",
      "CHI174:\n",
      "['8020 W FOREST PRESERVE AV']\n",
      "\n",
      "CHI181:\n",
      "['819 E 71ST ST']\n",
      "\n",
      "CHI180:\n",
      "['7157 S SOUTH CHICAGO AVE']\n",
      "\n",
      "CHI184:\n",
      "['7122 S SOUTH CHICAGO AVE']\n",
      "\n",
      "CHI179:\n",
      "['4246 W 47TH ST']\n",
      "\n",
      "CHI178:\n",
      "['4319 W 47TH ST']\n",
      "\n",
      "CHI183:\n",
      "['1444 W DIVISION ST']\n",
      "\n",
      "CHI182:\n",
      "['1455 W DIVISION ST']\n",
      "\n"
     ]
    }
   ],
   "source": [
    "# Make sure each camera has only one location\n",
    "for cam in violations['cam_id'].unique():\n",
    "    print('{0}:\\n{1}\\n'.format(cam,violations[violations['cam_id'] == cam]['cam_address'].unique()))"
   ]
  },
  {
   "cell_type": "markdown",
   "metadata": {},
   "source": [
    "That was a lot to sift through, but one of the cameras has 2 locations, so let's identify both cameras as separate entities."
   ]
  },
  {
   "cell_type": "code",
   "execution_count": 33,
   "metadata": {},
   "outputs": [],
   "source": [
    "violations.loc[violations['cam_address'] == '319 E ILLINOIS ST', 'cam_id'] = 'CHI126-1'\n",
    "violations.loc[violations['cam_address'] == '324 E ILLINOIS ST', 'cam_id'] = 'CHI126-2'"
   ]
  },
  {
   "cell_type": "code",
   "execution_count": 34,
   "metadata": {},
   "outputs": [
    {
     "data": {
      "text/html": [
       "<div>\n",
       "<style scoped>\n",
       "    .dataframe tbody tr th:only-of-type {\n",
       "        vertical-align: middle;\n",
       "    }\n",
       "\n",
       "    .dataframe tbody tr th {\n",
       "        vertical-align: top;\n",
       "    }\n",
       "\n",
       "    .dataframe thead th {\n",
       "        text-align: right;\n",
       "    }\n",
       "</style>\n",
       "<table border=\"1\" class=\"dataframe\">\n",
       "  <thead>\n",
       "    <tr style=\"text-align: right;\">\n",
       "      <th></th>\n",
       "      <th>id</th>\n",
       "      <th>address</th>\n",
       "      <th>latitude</th>\n",
       "      <th>longitude</th>\n",
       "      <th>citations</th>\n",
       "    </tr>\n",
       "  </thead>\n",
       "  <tbody>\n",
       "    <tr>\n",
       "      <th>0</th>\n",
       "      <td>CHI003</td>\n",
       "      <td>4124 W FOSTER AVE</td>\n",
       "      <td>41.975605</td>\n",
       "      <td>-87.731670</td>\n",
       "      <td>116.335859</td>\n",
       "    </tr>\n",
       "    <tr>\n",
       "      <th>1</th>\n",
       "      <td>CHI004</td>\n",
       "      <td>5120 N PULASKI</td>\n",
       "      <td>41.974333</td>\n",
       "      <td>-87.728347</td>\n",
       "      <td>34.781192</td>\n",
       "    </tr>\n",
       "    <tr>\n",
       "      <th>2</th>\n",
       "      <td>CHI005</td>\n",
       "      <td>2080 W PERSHING</td>\n",
       "      <td>41.823189</td>\n",
       "      <td>-87.677349</td>\n",
       "      <td>12.046569</td>\n",
       "    </tr>\n",
       "    <tr>\n",
       "      <th>3</th>\n",
       "      <td>CHI007</td>\n",
       "      <td>3843 S WESTERN</td>\n",
       "      <td>41.823564</td>\n",
       "      <td>-87.684721</td>\n",
       "      <td>59.697837</td>\n",
       "    </tr>\n",
       "    <tr>\n",
       "      <th>4</th>\n",
       "      <td>CHI008</td>\n",
       "      <td>3655 W JACKSON</td>\n",
       "      <td>41.877071</td>\n",
       "      <td>-87.718168</td>\n",
       "      <td>19.142241</td>\n",
       "    </tr>\n",
       "  </tbody>\n",
       "</table>\n",
       "</div>"
      ],
      "text/plain": [
       "       id            address   latitude  longitude   citations\n",
       "0  CHI003  4124 W FOSTER AVE  41.975605 -87.731670  116.335859\n",
       "1  CHI004     5120 N PULASKI  41.974333 -87.728347   34.781192\n",
       "2  CHI005    2080 W PERSHING  41.823189 -87.677349   12.046569\n",
       "3  CHI007     3843 S WESTERN  41.823564 -87.684721   59.697837\n",
       "4  CHI008     3655 W JACKSON  41.877071 -87.718168   19.142241"
      ]
     },
     "execution_count": 34,
     "metadata": {},
     "output_type": "execute_result"
    }
   ],
   "source": [
    "# Generate our subset\n",
    "map_data_dict = {\n",
    "    'id':  violations['cam_id'].unique(),\n",
    "    'address': violations['cam_address'].unique(),\n",
    "    'latitude': violations['latitude'].unique(),\n",
    "    'longitude': violations['longitude'].unique()\n",
    "}\n",
    "\n",
    "map_data = pd.DataFrame(map_data_dict)\n",
    "\n",
    "# Let's sort our dataframe by camera id\n",
    "map_data = map_data.sort_values('id').reset_index(drop=True)\n",
    "\n",
    "# Recalculate citation averages per camera since we've split one into two\n",
    "cam_avg = violations.groupby('cam_id')['num_violations'].mean()\n",
    "\n",
    "# Create citations column from the averages just calculated\n",
    "map_data['citations'] = cam_avg.values\n",
    "\n",
    "map_data.head()"
   ]
  },
  {
   "cell_type": "code",
   "execution_count": 36,
   "metadata": {
    "scrolled": false
   },
   "outputs": [
    {
     "data": {
      "text/html": [
       "<div style=\"width:100%;\"><div style=\"position:relative;width:100%;height:0;padding-bottom:60%;\"><iframe src=\"data:text/html;charset=utf-8;base64,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\" style=\"position:absolute;width:100%;height:100%;left:0;top:0;border:none !important;\" allowfullscreen webkitallowfullscreen mozallowfullscreen></iframe></div></div>"
      ],
      "text/plain": [
       "<folium.folium.Map at 0x7f5ed6ca7a58>"
      ]
     },
     "execution_count": 36,
     "metadata": {},
     "output_type": "execute_result"
    }
   ],
   "source": [
    "import folium\n",
    "\n",
    "# Create our folium map\n",
    "chicago_map = folium.Map(location=[41.8390191,-87.5785065], zoom_start=10, tiles='OpenStreetMap')\n",
    "\n",
    "# Put circles on the map at the cameras' locations\n",
    "for i in range(map_data.shape[0]):\n",
    "    latitude = map_data.loc[i, 'latitude']\n",
    "    longitude = map_data.loc[i, 'longitude']\n",
    "    citations = map_data.loc[i, 'citations']\n",
    "    address = map_data.loc[i, 'address']\n",
    "    \n",
    "    if 0 <= citations < 5:\n",
    "        color = 'cadetblue'\n",
    "    elif 5 <= citations < 35:\n",
    "        color = 'green'\n",
    "    elif 35 <= citations < 75:\n",
    "        color = 'darkgreen'       \n",
    "    elif 75 <= citations < 100:\n",
    "        color = 'orange'\n",
    "    elif citations >= 100:\n",
    "        color = 'darkred'\n",
    "    \n",
    "    popup_text = 'Avg. Citations: {0}\\nAddress: {1}\\nLatitude: {2}\\nLongitude: {3}'.format(\n",
    "        citations, address, latitude, longitude)\n",
    "    \n",
    "    folium.CircleMarker(location=[latitude, longitude], popup=popup_text, radius=citations/10, \n",
    "                        color=color, fill=True).add_to(chicago_map)\n",
    "    \n",
    "chicago_map"
   ]
  },
  {
   "cell_type": "markdown",
   "metadata": {},
   "source": [
    "It certainly does look like the cameras with the highest yields are located in high-traffic areas, which many of them located near highways or expressways. It may be worthwhile to break the city up into districts and see if any of the districts with the highest number of citations or cameras correlate with certain demographic features. We'd need to import another dataset for that project, but I suspect it would tell some interesting stories."
   ]
  },
  {
   "cell_type": "markdown",
   "metadata": {},
   "source": [
    "# Conclusions\n",
    "\n",
    "We've made some interesting discoveries in this project, most of which have introduced more questions! We've discovered, as we'd hoped to discover, that the average number of citations per camera, per day is approximately 19, that most citations are issued on Saturday, with Sunday a close second, and that the city has increased the number of cameras since over the period of our exploration. But we also saw that those answers don't tell a complete story; while the average seems low, some of the cameras are issuing a phenomenal number of citations on a daily basis, and though the city has increased the number of active cameras, we don't yet know whether the new cameras have impacted the number of citations issued. We're also not sure whether the cameras' locations are disproportionately affecting one demographic. They may not be, but for me at least that's a question which must be posed.\n",
    "\n",
    "Where do we go from here? As I've mentioned in the passage above, I'd really like to dig down into the demographics of each district and see whether or not the cameras affect one group more than any other. I also wonder if there is data relating the traffic volume for Chicago's streets. This could provide more insight into why some cameras issue a much larger volume of citations than others. "
   ]
  },
  {
   "cell_type": "markdown",
   "metadata": {},
   "source": [
    "# Next Steps\n",
    "\n",
    "1. Find demographic data and search for data relating to traffic volume\n",
    "2. Make graphs prettier"
   ]
  },
  {
   "cell_type": "code",
   "execution_count": null,
   "metadata": {},
   "outputs": [],
   "source": []
  }
 ],
 "metadata": {
  "kernelspec": {
   "display_name": "Python 3",
   "language": "python",
   "name": "python3"
  },
  "language_info": {
   "codemirror_mode": {
    "name": "ipython",
    "version": 3
   },
   "file_extension": ".py",
   "mimetype": "text/x-python",
   "name": "python",
   "nbconvert_exporter": "python",
   "pygments_lexer": "ipython3",
   "version": "3.7.1"
  }
 },
 "nbformat": 4,
 "nbformat_minor": 2
}
